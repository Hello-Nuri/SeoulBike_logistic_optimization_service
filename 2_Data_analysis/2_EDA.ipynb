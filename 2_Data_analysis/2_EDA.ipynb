{
 "cells": [
  {
   "cell_type": "markdown",
   "id": "a688bd24-dd1e-40a5-b5f3-913aa062c672",
   "metadata": {
    "jp-MarkdownHeadingCollapsed": true
   },
   "source": [
    "### 빅쿼리 연동"
   ]
  },
  {
   "cell_type": "code",
   "execution_count": 1,
   "id": "148bbf31-bbaa-46a4-9c5a-474e46598918",
   "metadata": {},
   "outputs": [],
   "source": [
    "#bigquery 연동하기 \n",
    "from google.oauth2 import service_account\n",
    "from google.cloud import bigquery"
   ]
  },
  {
   "cell_type": "code",
   "execution_count": 2,
   "id": "83096856-e882-4498-97dc-4a2d88f0c05e",
   "metadata": {},
   "outputs": [],
   "source": [
    "credentials = service_account.Credentials.from_service_account_file('./jsonkey.json')"
   ]
  },
  {
   "cell_type": "code",
   "execution_count": 3,
   "id": "379e51cf-f860-46c0-a351-fcca50a85cdd",
   "metadata": {},
   "outputs": [
    {
     "data": {
      "text/plain": [
       "<google.oauth2.service_account.Credentials at 0x117a0c080>"
      ]
     },
     "execution_count": 3,
     "metadata": {},
     "output_type": "execute_result"
    }
   ],
   "source": [
    "credentials"
   ]
  },
  {
   "cell_type": "code",
   "execution_count": 4,
   "id": "16da7294-470f-4c23-bb74-90af21cef893",
   "metadata": {},
   "outputs": [],
   "source": [
    "client = bigquery.Client(\n",
    "    credentials=credentials,\n",
    "    project=credentials.project_id\n",
    ")"
   ]
  },
  {
   "cell_type": "code",
   "execution_count": 5,
   "id": "d716eab1-483c-4d5d-ad06-988f97d4ffa8",
   "metadata": {},
   "outputs": [
    {
     "data": {
      "text/plain": [
       "<google.cloud.bigquery.client.Client at 0x150865100>"
      ]
     },
     "execution_count": 5,
     "metadata": {},
     "output_type": "execute_result"
    }
   ],
   "source": [
    "client"
   ]
  },
  {
   "cell_type": "code",
   "execution_count": 6,
   "id": "c664e0e7-eb57-4364-8f1c-af6f8173cfec",
   "metadata": {},
   "outputs": [],
   "source": [
    "import pandas as pd"
   ]
  },
  {
   "cell_type": "code",
   "execution_count": 18,
   "id": "2b401bee-67e2-4196-a307-f26273bd9104",
   "metadata": {},
   "outputs": [],
   "source": [
    "import matplotlib.font_manager as fm\n",
    "import matplotlib.pyplot as plt\n",
    "plt.rcParams['font.family'] = 'AppleGothic'"
   ]
  },
  {
   "cell_type": "code",
   "execution_count": 8,
   "id": "e9d25464-4923-46c8-9ce2-a895d8b91739",
   "metadata": {},
   "outputs": [],
   "source": [
    "pd.set_option('display.max_rows', None)  # 모든 행 표시\n",
    "pd.set_option('display.max_columns', None)  # 모든 열 표시\n",
    "pd.set_option('display.expand_frame_repr', False)  # 열이 화면 너비를 초과할 때 데이터프레임을 줄 바꿈하지 않도록 설정"
   ]
  },
  {
   "cell_type": "markdown",
   "id": "9c0d7e16-5173-476e-a12a-da06bef5a1e3",
   "metadata": {
    "jp-MarkdownHeadingCollapsed": true
   },
   "source": [
    "### 서울시 자치구별 따릉이 사용량"
   ]
  },
  {
   "cell_type": "code",
   "execution_count": 9,
   "id": "179260f2-cc55-4428-8e4a-96109b732631",
   "metadata": {},
   "outputs": [],
   "source": [
    "query = \"\"\"\n",
    "SELECT \n",
    "  REGEXP_EXTRACT(Address_1, r'([가-힣]+구)') AS district,  -- 구 이름 추출\n",
    "  COUNT(*) AS usage_count  -- 사용량 계산\n",
    "FROM \n",
    "  `multi-final-project.Rental_usage_history.Rental_usage_history_*` AS A\n",
    "JOIN \n",
    "  `multi-final-project.Rental_Location_ID_master.Rental_Location_ID_master_la_lo` AS B\n",
    "ON \n",
    "  A.Rental_Location_ID = B.Rental_Location_ID\n",
    "  WHERE _TABLE_SUFFIX BETWEEN '2301' AND '2312'\n",
    "  AND NOT REGEXP_CONTAINS(B.Address_1, r'경기도')\n",
    "\n",
    "GROUP BY\n",
    "  district\n",
    "ORDER BY\n",
    "  usage_count DESC\n",
    "\"\"\""
   ]
  },
  {
   "cell_type": "code",
   "execution_count": 10,
   "id": "a71f0d2a-3252-4684-9680-2066d84ea5fb",
   "metadata": {},
   "outputs": [
    {
     "name": "stderr",
     "output_type": "stream",
     "text": [
      "/Library/Frameworks/Python.framework/Versions/3.12/lib/python3.12/site-packages/google/cloud/bigquery/table.py:1727: UserWarning: BigQuery Storage module not found, fetch data with the REST endpoint instead.\n",
      "  warnings.warn(\n"
     ]
    }
   ],
   "source": [
    "test_df = client.query(query).to_dataframe()"
   ]
  },
  {
   "cell_type": "code",
   "execution_count": 11,
   "id": "171d4127-40ac-4549-8030-0b9adcb3612e",
   "metadata": {
    "scrolled": true
   },
   "outputs": [
    {
     "data": {
      "text/html": [
       "<div>\n",
       "<style scoped>\n",
       "    .dataframe tbody tr th:only-of-type {\n",
       "        vertical-align: middle;\n",
       "    }\n",
       "\n",
       "    .dataframe tbody tr th {\n",
       "        vertical-align: top;\n",
       "    }\n",
       "\n",
       "    .dataframe thead th {\n",
       "        text-align: right;\n",
       "    }\n",
       "</style>\n",
       "<table border=\"1\" class=\"dataframe\">\n",
       "  <thead>\n",
       "    <tr style=\"text-align: right;\">\n",
       "      <th></th>\n",
       "      <th>district</th>\n",
       "      <th>usage_count</th>\n",
       "    </tr>\n",
       "  </thead>\n",
       "  <tbody>\n",
       "    <tr>\n",
       "      <th>0</th>\n",
       "      <td>강서구</td>\n",
       "      <td>5392924</td>\n",
       "    </tr>\n",
       "    <tr>\n",
       "      <th>1</th>\n",
       "      <td>송파구</td>\n",
       "      <td>4132739</td>\n",
       "    </tr>\n",
       "    <tr>\n",
       "      <th>2</th>\n",
       "      <td>영등포구</td>\n",
       "      <td>3849246</td>\n",
       "    </tr>\n",
       "    <tr>\n",
       "      <th>3</th>\n",
       "      <td>노원구</td>\n",
       "      <td>2809646</td>\n",
       "    </tr>\n",
       "    <tr>\n",
       "      <th>4</th>\n",
       "      <td>양천구</td>\n",
       "      <td>2698516</td>\n",
       "    </tr>\n",
       "    <tr>\n",
       "      <th>5</th>\n",
       "      <td>마포구</td>\n",
       "      <td>2278690</td>\n",
       "    </tr>\n",
       "    <tr>\n",
       "      <th>6</th>\n",
       "      <td>광진구</td>\n",
       "      <td>2250705</td>\n",
       "    </tr>\n",
       "    <tr>\n",
       "      <th>7</th>\n",
       "      <td>강동구</td>\n",
       "      <td>1991724</td>\n",
       "    </tr>\n",
       "    <tr>\n",
       "      <th>8</th>\n",
       "      <td>구로구</td>\n",
       "      <td>1877199</td>\n",
       "    </tr>\n",
       "    <tr>\n",
       "      <th>9</th>\n",
       "      <td>성동구</td>\n",
       "      <td>1780862</td>\n",
       "    </tr>\n",
       "    <tr>\n",
       "      <th>10</th>\n",
       "      <td>동대문구</td>\n",
       "      <td>1648091</td>\n",
       "    </tr>\n",
       "    <tr>\n",
       "      <th>11</th>\n",
       "      <td>종로구</td>\n",
       "      <td>1592235</td>\n",
       "    </tr>\n",
       "    <tr>\n",
       "      <th>12</th>\n",
       "      <td>강남구</td>\n",
       "      <td>1471869</td>\n",
       "    </tr>\n",
       "    <tr>\n",
       "      <th>13</th>\n",
       "      <td>중랑구</td>\n",
       "      <td>1343008</td>\n",
       "    </tr>\n",
       "    <tr>\n",
       "      <th>14</th>\n",
       "      <td>서초구</td>\n",
       "      <td>1334385</td>\n",
       "    </tr>\n",
       "    <tr>\n",
       "      <th>15</th>\n",
       "      <td>은평구</td>\n",
       "      <td>1199078</td>\n",
       "    </tr>\n",
       "    <tr>\n",
       "      <th>16</th>\n",
       "      <td>관악구</td>\n",
       "      <td>1135979</td>\n",
       "    </tr>\n",
       "    <tr>\n",
       "      <th>17</th>\n",
       "      <td>성북구</td>\n",
       "      <td>1130863</td>\n",
       "    </tr>\n",
       "    <tr>\n",
       "      <th>18</th>\n",
       "      <td>중구</td>\n",
       "      <td>1113109</td>\n",
       "    </tr>\n",
       "    <tr>\n",
       "      <th>19</th>\n",
       "      <td>도봉구</td>\n",
       "      <td>992527</td>\n",
       "    </tr>\n",
       "    <tr>\n",
       "      <th>20</th>\n",
       "      <td>동작구</td>\n",
       "      <td>980880</td>\n",
       "    </tr>\n",
       "    <tr>\n",
       "      <th>21</th>\n",
       "      <td>용산구</td>\n",
       "      <td>952463</td>\n",
       "    </tr>\n",
       "    <tr>\n",
       "      <th>22</th>\n",
       "      <td>서대문구</td>\n",
       "      <td>911273</td>\n",
       "    </tr>\n",
       "    <tr>\n",
       "      <th>23</th>\n",
       "      <td>금천구</td>\n",
       "      <td>829827</td>\n",
       "    </tr>\n",
       "    <tr>\n",
       "      <th>24</th>\n",
       "      <td>강북구</td>\n",
       "      <td>675965</td>\n",
       "    </tr>\n",
       "  </tbody>\n",
       "</table>\n",
       "</div>"
      ],
      "text/plain": [
       "   district  usage_count\n",
       "0       강서구      5392924\n",
       "1       송파구      4132739\n",
       "2      영등포구      3849246\n",
       "3       노원구      2809646\n",
       "4       양천구      2698516\n",
       "5       마포구      2278690\n",
       "6       광진구      2250705\n",
       "7       강동구      1991724\n",
       "8       구로구      1877199\n",
       "9       성동구      1780862\n",
       "10     동대문구      1648091\n",
       "11      종로구      1592235\n",
       "12      강남구      1471869\n",
       "13      중랑구      1343008\n",
       "14      서초구      1334385\n",
       "15      은평구      1199078\n",
       "16      관악구      1135979\n",
       "17      성북구      1130863\n",
       "18       중구      1113109\n",
       "19      도봉구       992527\n",
       "20      동작구       980880\n",
       "21      용산구       952463\n",
       "22     서대문구       911273\n",
       "23      금천구       829827\n",
       "24      강북구       675965"
      ]
     },
     "execution_count": 11,
     "metadata": {},
     "output_type": "execute_result"
    }
   ],
   "source": [
    "test_df"
   ]
  },
  {
   "cell_type": "code",
   "execution_count": 64,
   "id": "7ceba7bb-7ca0-4f28-9c66-de8f41253c69",
   "metadata": {},
   "outputs": [
    {
     "data": {
      "image/png": "[encoded data removed]",
      "text/plain": [
       "<Figure size 900x600 with 1 Axes>"
      ]
     },
     "metadata": {},
     "output_type": "display_data"
    }
   ],
   "source": [
    "import numpy as np\n",
    "import matplotlib.cm as cm\n",
    "\n",
    "plt.figure(figsize=(9, 6))\n",
    "n = len(test_df)\n",
    "cmap = plt.get_cmap('Greens')\n",
    "colors = cmap(np.linspace(0.9, 0.2, n))\n",
    "plt.bar(test_df['district'],test_df['usage_count'],zorder = 3, color = colors)\n",
    "\n",
    "plt.xticks(rotation=90)\n",
    "plt.title('구별 따릉이 대여량 집계 1년')\n",
    "plt.xlabel('대여량')\n",
    "plt.ylabel('서울 자치구')\n",
    "plt.xticks(rotation=90)\n",
    "plt.grid(True, zorder=0)\n",
    "\n",
    "plt.show()"
   ]
  },
  {
   "cell_type": "markdown",
   "id": "95c557e7-c401-4be5-9be9-8236c7fa2d9b",
   "metadata": {
    "jp-MarkdownHeadingCollapsed": true
   },
   "source": [
    "### 자치구별 이동량 집계"
   ]
  },
  {
   "cell_type": "code",
   "execution_count": 23,
   "id": "f0f11051-af99-434f-ab5a-35a568b90302",
   "metadata": {},
   "outputs": [],
   "source": [
    "query = \"\"\"\n",
    "SELECT \n",
    "  REGEXP_EXTRACT(B_rent.Address_1, r'([가-힣]+구)') AS rental_district,  -- 대여 위치 구 이름\n",
    "  REGEXP_EXTRACT(B_return.Address_1, r'([가-힣]+구)') AS return_district,  -- 반납 위치 구 이름\n",
    "  COUNT(*) AS move_count  -- 이동 횟수\n",
    "FROM \n",
    "  `multi-final-project.Rental_usage_history.Rental_usage_history_*` AS A\n",
    "JOIN \n",
    "  `multi-final-project.Rental_Location_ID_master.Rental_Location_ID_master_la_lo` AS B_rent\n",
    "ON \n",
    "  A.Rental_Location_ID = B_rent.Rental_Location_ID  -- 대여 위치\n",
    "\n",
    "JOIN \n",
    "  `multi-final-project.Rental_Location_ID_master.Rental_Location_ID_master_la_lo` AS B_return\n",
    "ON \n",
    "  A.Return_Location_ID = B_return.Rental_Location_ID  -- 반납 위치\n",
    "WHERE \n",
    "  _TABLE_SUFFIX BETWEEN '2301' AND '2312'\n",
    "  AND NOT REGEXP_CONTAINS(B_rent.Address_1, r'경기도')  -- 경기도 대여 위치 제외\n",
    "  AND NOT REGEXP_CONTAINS(B_return.Address_1, r'경기도')  -- 경기도 반납 위치 제외\n",
    "GROUP BY\n",
    "  rental_district, return_district  -- 대여 구와 반납 구별 그룹화\n",
    "ORDER BY \n",
    "  move_count DESC  -- 이동이 많은 순서로 정렬\n",
    "LIMIT 1000;\n",
    "\"\"\""
   ]
  },
  {
   "cell_type": "code",
   "execution_count": 24,
   "id": "619f133d-630c-4c98-a14a-794546e723a7",
   "metadata": {},
   "outputs": [
    {
     "name": "stderr",
     "output_type": "stream",
     "text": [
      "/Library/Frameworks/Python.framework/Versions/3.12/lib/python3.12/site-packages/google/cloud/bigquery/table.py:1727: UserWarning: BigQuery Storage module not found, fetch data with the REST endpoint instead.\n",
      "  warnings.warn(\n"
     ]
    }
   ],
   "source": [
    "move_gu_df = client.query(query).to_dataframe()"
   ]
  },
  {
   "cell_type": "markdown",
   "id": "0c36859b-e13f-47c2-95f7-12eb5f5c68f9",
   "metadata": {
    "jp-MarkdownHeadingCollapsed": true
   },
   "source": [
    "### 따릉이 부족 자치구"
   ]
  },
  {
   "cell_type": "code",
   "execution_count": 9,
   "id": "87a2e386-226c-4dcc-bdcb-02b02f4b4d83",
   "metadata": {},
   "outputs": [],
   "source": [
    "query = \"\"\"\n",
    "WITH rental_counts AS (\n",
    "  -- 각 구에서 대여된 대수 집계\n",
    "  SELECT \n",
    "    REGEXP_EXTRACT(B_rent.Address_1, r'([가-힣]+구)') AS district,  -- 대여 구 추출\n",
    "    COUNT(*) AS rental_count  -- 대여 횟수 집계\n",
    "  FROM \n",
    "    `multi-final-project.Rental_usage_history.Rental_usage_history_*` AS A\n",
    "  JOIN \n",
    "    `multi-final-project.Rental_Location_ID_master.Rental_Location_ID_master_la_lo` AS B_rent\n",
    "  ON \n",
    "    A.Rental_Location_ID = B_rent.Rental_Location_ID  -- 대여 위치\n",
    "  WHERE \n",
    "    _TABLE_SUFFIX BETWEEN '2301' AND '2312'\n",
    "    AND NOT REGEXP_CONTAINS(B_rent.Address_1, r'경기도')  -- 경기도 제외\n",
    "  GROUP BY \n",
    "    district\n",
    "),\n",
    "return_counts AS (\n",
    "  -- 각 구에서 반납된 대수 집계\n",
    "  SELECT \n",
    "    REGEXP_EXTRACT(B_return.Address_1, r'([가-힣]+구)') AS district,  -- 반납 구 추출\n",
    "    COUNT(*) AS return_count  -- 반납 횟수 집계\n",
    "  FROM \n",
    "    `multi-final-project.Rental_usage_history.Rental_usage_history_*` AS A\n",
    "  JOIN \n",
    "    `multi-final-project.Rental_Location_ID_master.Rental_Location_ID_master_la_lo` AS B_return\n",
    "  ON \n",
    "    A.Return_Location_ID = B_return.Rental_Location_ID  -- 반납 위치\n",
    "  WHERE \n",
    "    _TABLE_SUFFIX BETWEEN '2301' AND '2312'\n",
    "    AND NOT REGEXP_CONTAINS(B_return.Address_1, r'경기도')  -- 경기도 제외\n",
    "  GROUP BY \n",
    "    district\n",
    ")\n",
    "-- 두 집계 결과를 결합하여 대여와 반납 차이 계산\n",
    "SELECT \n",
    "  COALESCE(rental_counts.district, return_counts.district) AS district,  -- 구 이름\n",
    "  COALESCE(rental_count, 0) AS rental_count,  -- 대여 대수\n",
    "  COALESCE(return_count, 0) AS return_count,  -- 반납 대수\n",
    "  (COALESCE(return_count, 0) - COALESCE(rental_count, 0)) AS count_difference  -- 반납 - 대여 차이\n",
    "FROM \n",
    "  rental_counts\n",
    "FULL OUTER JOIN \n",
    "  return_counts\n",
    "ON \n",
    "  rental_counts.district = return_counts.district\n",
    "-- 반납 대수가 대여 대수보다 적은 지역만 필터링\n",
    "WHERE \n",
    "  (COALESCE(return_count, 0) - COALESCE(rental_count, 0)) < 0\n",
    "ORDER BY \n",
    "  count_difference ASC\n",
    "LIMIT 100;\n",
    "\"\"\""
   ]
  },
  {
   "cell_type": "code",
   "execution_count": 10,
   "id": "ea315e1a-96d7-480b-ad8d-c11e67c2d5e1",
   "metadata": {},
   "outputs": [
    {
     "name": "stderr",
     "output_type": "stream",
     "text": [
      "/Library/Frameworks/Python.framework/Versions/3.12/lib/python3.12/site-packages/google/cloud/bigquery/table.py:1727: UserWarning: BigQuery Storage module not found, fetch data with the REST endpoint instead.\n",
      "  warnings.warn(\n"
     ]
    }
   ],
   "source": [
    "df = client.query(query).to_dataframe()"
   ]
  },
  {
   "cell_type": "code",
   "execution_count": 12,
   "id": "79974e1b-c4c0-487b-8329-08467b3928c8",
   "metadata": {},
   "outputs": [
    {
     "data": {
      "text/html": [
       "<div>\n",
       "<style scoped>\n",
       "    .dataframe tbody tr th:only-of-type {\n",
       "        vertical-align: middle;\n",
       "    }\n",
       "\n",
       "    .dataframe tbody tr th {\n",
       "        vertical-align: top;\n",
       "    }\n",
       "\n",
       "    .dataframe thead th {\n",
       "        text-align: right;\n",
       "    }\n",
       "</style>\n",
       "<table border=\"1\" class=\"dataframe\">\n",
       "  <thead>\n",
       "    <tr style=\"text-align: right;\">\n",
       "      <th></th>\n",
       "      <th>district</th>\n",
       "      <th>rental_count</th>\n",
       "      <th>return_count</th>\n",
       "      <th>count_difference</th>\n",
       "    </tr>\n",
       "  </thead>\n",
       "  <tbody>\n",
       "    <tr>\n",
       "      <th>0</th>\n",
       "      <td>강남구</td>\n",
       "      <td>1471869</td>\n",
       "      <td>1398406</td>\n",
       "      <td>-73463</td>\n",
       "    </tr>\n",
       "    <tr>\n",
       "      <th>1</th>\n",
       "      <td>종로구</td>\n",
       "      <td>1592235</td>\n",
       "      <td>1524401</td>\n",
       "      <td>-67834</td>\n",
       "    </tr>\n",
       "    <tr>\n",
       "      <th>2</th>\n",
       "      <td>중구</td>\n",
       "      <td>1113109</td>\n",
       "      <td>1056691</td>\n",
       "      <td>-56418</td>\n",
       "    </tr>\n",
       "    <tr>\n",
       "      <th>3</th>\n",
       "      <td>영등포구</td>\n",
       "      <td>3849246</td>\n",
       "      <td>3808360</td>\n",
       "      <td>-40886</td>\n",
       "    </tr>\n",
       "    <tr>\n",
       "      <th>4</th>\n",
       "      <td>서대문구</td>\n",
       "      <td>911273</td>\n",
       "      <td>875724</td>\n",
       "      <td>-35549</td>\n",
       "    </tr>\n",
       "  </tbody>\n",
       "</table>\n",
       "</div>"
      ],
      "text/plain": [
       "  district  rental_count  return_count  count_difference\n",
       "0      강남구       1471869       1398406            -73463\n",
       "1      종로구       1592235       1524401            -67834\n",
       "2       중구       1113109       1056691            -56418\n",
       "3     영등포구       3849246       3808360            -40886\n",
       "4     서대문구        911273        875724            -35549"
      ]
     },
     "execution_count": 12,
     "metadata": {},
     "output_type": "execute_result"
    }
   ],
   "source": [
    "df.head()"
   ]
  },
  {
   "cell_type": "code",
   "execution_count": 24,
   "id": "f0411d20-ffc9-4737-996e-88bf9352e36b",
   "metadata": {},
   "outputs": [
    {
     "name": "stderr",
     "output_type": "stream",
     "text": [
      "/Library/Frameworks/Python.framework/Versions/3.12/lib/python3.12/site-packages/IPython/core/pylabtools.py:170: UserWarning: Glyph 8722 (\\N{MINUS SIGN}) missing from font(s) AppleGothic.\n",
      "  fig.canvas.print_figure(bytes_io, **kw)\n"
     ]
    },
    {
     "data": {
      "image/png": "[encoded data removed]",
      "text/plain": [
       "<Figure size 900x600 with 1 Axes>"
      ]
     },
     "metadata": {},
     "output_type": "display_data"
    }
   ],
   "source": [
    "import numpy as np\n",
    "import matplotlib.cm as cm\n",
    "import matplotlib.ticker as ticker\n",
    "\n",
    "plt.figure(figsize=(9, 6))\n",
    "n = len(df)\n",
    "cmap = plt.get_cmap('Greens')\n",
    "colors = cmap(np.linspace(0.9, 0.2, n))\n",
    "plt.bar(df['district'],df['count_difference'],zorder = 3, color = colors)\n",
    "# 음수 기호 유니코드 설정\n",
    "plt.gca().yaxis.set_major_formatter(ticker.FuncFormatter(lambda x, _: f\"{x:.0f}\".replace(\"-\", \"\\u2212\")))\n",
    "plt.xticks(rotation=90)\n",
    "plt.title('따릉이 부족 자치구 (1년치 반납 - 대여 집계 차)')\n",
    "plt.xlabel('서울 자치구')\n",
    "plt.ylabel('대여 가능 수량')\n",
    "plt.xticks(rotation=90)\n",
    "plt.grid(True, zorder=0)\n",
    "\n",
    "plt.show()"
   ]
  },
  {
   "cell_type": "markdown",
   "id": "d6b5a75a-eb66-413d-ab72-5c24e64630a7",
   "metadata": {
    "jp-MarkdownHeadingCollapsed": true
   },
   "source": [
    "### 강남구 월별 부족량 집계"
   ]
  },
  {
   "cell_type": "code",
   "execution_count": 31,
   "id": "1e9e148c-99f3-4d71-a824-49026c493895",
   "metadata": {},
   "outputs": [],
   "source": [
    "gangnamgu_month_query = \"\"\"\n",
    "WITH rental_counts AS (\n",
    "  -- 각 구와 월별로 대여된 대수 집계\n",
    "  SELECT \n",
    "    FORMAT_DATE('%Y-%m', DATE(A.Date_and_time_of_rental)) AS MONTH,  -- 월 단위로 포맷팅\n",
    "    REGEXP_EXTRACT(B_rent.Address_1, r'([가-힣]+구)') AS district,  -- 대여 구 추출\n",
    "    COUNT(*) AS rental_count  -- 대여 횟수 집계\n",
    "  FROM \n",
    "    `multi-final-project.Rental_usage_history.Rental_usage_history_*` AS A\n",
    "  JOIN \n",
    "    `multi-final-project.Rental_Location_ID_master.Rental_Location_ID_master_la_lo` AS B_rent\n",
    "  ON \n",
    "    A.Rental_Location_ID = B_rent.Rental_Location_ID  -- 대여 위치\n",
    "  WHERE \n",
    "    _TABLE_SUFFIX BETWEEN '2301' AND '2312'\n",
    "    AND NOT REGEXP_CONTAINS(B_rent.Address_1, r'경기도')  -- 경기도 제외\n",
    "  GROUP BY \n",
    "    district, MONTH  -- 구와 월로 그룹화\n",
    "),\n",
    "return_counts AS (\n",
    "  -- 각 구와 월별로 반납된 대수 집계\n",
    "  SELECT\n",
    "    FORMAT_DATE('%Y-%m', DATE(A.Return_date)) AS MONTH,  -- 월 단위로 포맷팅\n",
    "    REGEXP_EXTRACT(B_return.Address_1, r'([가-힣]+구)') AS district,  -- 반납 구 추출\n",
    "    COUNT(*) AS return_count  -- 반납 횟수 집계\n",
    "  FROM \n",
    "    `multi-final-project.Rental_usage_history.Rental_usage_history_*` AS A\n",
    "  JOIN \n",
    "    `multi-final-project.Rental_Location_ID_master.Rental_Location_ID_master_la_lo` AS B_return\n",
    "  ON \n",
    "    A.Return_Location_ID = B_return.Rental_Location_ID  -- 반납 위치\n",
    "  WHERE \n",
    "    _TABLE_SUFFIX BETWEEN '2301' AND '2312'\n",
    "    AND NOT REGEXP_CONTAINS(B_return.Address_1, r'경기도')  -- 경기도 제외\n",
    "  GROUP BY \n",
    "    district, MONTH  -- 구와 월로 그룹화\n",
    ")\n",
    "-- 두 집계 결과를 결합하여 대여와 반납 차이 계산\n",
    "SELECT\n",
    "  COALESCE(rental_counts.MONTH, return_counts.MONTH) AS MONTH,  -- 월\n",
    "  COALESCE(rental_counts.district, return_counts.district) AS district,  -- 구 이름\n",
    "  COALESCE(rental_count, 0) AS rental_count,  -- 대여 대수\n",
    "  COALESCE(return_count, 0) AS return_count,  -- 반납 대수\n",
    "  (COALESCE(return_count, 0) - COALESCE(rental_count, 0)) AS count_difference  -- 반납 - 대여 차이\n",
    "FROM \n",
    "  rental_counts\n",
    "FULL OUTER JOIN \n",
    "  return_counts\n",
    "ON \n",
    "  rental_counts.district = return_counts.district\n",
    "  AND rental_counts.MONTH = return_counts.MONTH  -- 월과 구를 기준으로 결합\n",
    "WHERE \n",
    "  (COALESCE(return_count, 0) - COALESCE(rental_count, 0)) < 0  -- 반납 대수가 대여 대수보다 적은 경우만 필터링\n",
    "  AND COALESCE(rental_counts.district, return_counts.district) = '강남구'\n",
    "ORDER BY \n",
    "  MONTH ASC  -- 차이가 큰 순서대로 정렬\n",
    "LIMIT 100;\n",
    "\"\"\""
   ]
  },
  {
   "cell_type": "code",
   "execution_count": 32,
   "id": "87644666-3fe4-497f-a7eb-c67572209c38",
   "metadata": {},
   "outputs": [
    {
     "name": "stderr",
     "output_type": "stream",
     "text": [
      "/Library/Frameworks/Python.framework/Versions/3.12/lib/python3.12/site-packages/google/cloud/bigquery/table.py:1727: UserWarning: BigQuery Storage module not found, fetch data with the REST endpoint instead.\n",
      "  warnings.warn(\n"
     ]
    }
   ],
   "source": [
    "gangnamgu_month_df = client.query(gangnamgu_month_query).to_dataframe()"
   ]
  },
  {
   "cell_type": "code",
   "execution_count": 38,
   "id": "41e070c9-8780-42a7-95e2-e948103b8411",
   "metadata": {},
   "outputs": [
    {
     "data": {
      "text/html": [
       "<div>\n",
       "<style scoped>\n",
       "    .dataframe tbody tr th:only-of-type {\n",
       "        vertical-align: middle;\n",
       "    }\n",
       "\n",
       "    .dataframe tbody tr th {\n",
       "        vertical-align: top;\n",
       "    }\n",
       "\n",
       "    .dataframe thead th {\n",
       "        text-align: right;\n",
       "    }\n",
       "</style>\n",
       "<table border=\"1\" class=\"dataframe\">\n",
       "  <thead>\n",
       "    <tr style=\"text-align: right;\">\n",
       "      <th></th>\n",
       "      <th>rental_count</th>\n",
       "      <th>return_count</th>\n",
       "      <th>count_difference</th>\n",
       "    </tr>\n",
       "  </thead>\n",
       "  <tbody>\n",
       "    <tr>\n",
       "      <th>count</th>\n",
       "      <td>12.0</td>\n",
       "      <td>12.0</td>\n",
       "      <td>12.0</td>\n",
       "    </tr>\n",
       "    <tr>\n",
       "      <th>mean</th>\n",
       "      <td>122655.75</td>\n",
       "      <td>116532.833333</td>\n",
       "      <td>-6122.916667</td>\n",
       "    </tr>\n",
       "    <tr>\n",
       "      <th>std</th>\n",
       "      <td>41513.418234</td>\n",
       "      <td>38964.255575</td>\n",
       "      <td>2628.637755</td>\n",
       "    </tr>\n",
       "    <tr>\n",
       "      <th>min</th>\n",
       "      <td>48272.0</td>\n",
       "      <td>46404.0</td>\n",
       "      <td>-9261.0</td>\n",
       "    </tr>\n",
       "    <tr>\n",
       "      <th>25%</th>\n",
       "      <td>106161.75</td>\n",
       "      <td>101750.75</td>\n",
       "      <td>-8119.25</td>\n",
       "    </tr>\n",
       "    <tr>\n",
       "      <th>50%</th>\n",
       "      <td>126105.5</td>\n",
       "      <td>119469.0</td>\n",
       "      <td>-6752.0</td>\n",
       "    </tr>\n",
       "    <tr>\n",
       "      <th>75%</th>\n",
       "      <td>152743.75</td>\n",
       "      <td>144610.0</td>\n",
       "      <td>-4411.0</td>\n",
       "    </tr>\n",
       "    <tr>\n",
       "      <th>max</th>\n",
       "      <td>182304.0</td>\n",
       "      <td>173295.0</td>\n",
       "      <td>-1868.0</td>\n",
       "    </tr>\n",
       "  </tbody>\n",
       "</table>\n",
       "</div>"
      ],
      "text/plain": [
       "       rental_count   return_count  count_difference\n",
       "count          12.0           12.0              12.0\n",
       "mean      122655.75  116532.833333      -6122.916667\n",
       "std    41513.418234   38964.255575       2628.637755\n",
       "min         48272.0        46404.0           -9261.0\n",
       "25%       106161.75      101750.75          -8119.25\n",
       "50%        126105.5       119469.0           -6752.0\n",
       "75%       152743.75       144610.0           -4411.0\n",
       "max        182304.0       173295.0           -1868.0"
      ]
     },
     "execution_count": 38,
     "metadata": {},
     "output_type": "execute_result"
    }
   ],
   "source": [
    "gangnamgu_month_df.describe()"
   ]
  },
  {
   "cell_type": "code",
   "execution_count": 49,
   "id": "0ce6141b-e1cd-450f-84ed-c44367c624a2",
   "metadata": {},
   "outputs": [
    {
     "name": "stderr",
     "output_type": "stream",
     "text": [
      "/Library/Frameworks/Python.framework/Versions/3.12/lib/python3.12/site-packages/IPython/core/pylabtools.py:170: UserWarning: Glyph 8722 (\\N{MINUS SIGN}) missing from font(s) AppleGothic.\n",
      "  fig.canvas.print_figure(bytes_io, **kw)\n"
     ]
    },
    {
     "data": {
      "image/png": "[encoded data removed]",
      "text/plain": [
       "<Figure size 900x600 with 1 Axes>"
      ]
     },
     "metadata": {},
     "output_type": "display_data"
    }
   ],
   "source": [
    "import matplotlib.cm as cm\n",
    "import matplotlib.ticker as ticker\n",
    "\n",
    "plt.figure(figsize=(9, 6))\n",
    "n = len(df)\n",
    "cmap = plt.get_cmap('Greens')\n",
    "colors = cmap(np.linspace(0.9, 0.2, n))\n",
    "plt.bar(gangnamgu_month_df['MONTH'],gangnamgu_month_df['count_difference'],zorder = 3, color = colors)\n",
    "plt.xticks(rotation=90)\n",
    "plt.title('따릉이 강남구 월별 (반납 - 대여 집계 차)')\n",
    "plt.axhline(y=-4411, color='r', linestyle='--', label='75% 임계선',zorder = 4)\n",
    "plt.xlabel('월')\n",
    "plt.ylabel('대여 가능 수량')\n",
    "plt.xticks(rotation=90)\n",
    "plt.grid(True, zorder=0)\n",
    "# 레전드 추가 (gca().legend() 사용)\n",
    "plt.gca().legend()\n",
    "\n",
    "plt.show()"
   ]
  },
  {
   "cell_type": "markdown",
   "id": "e4feddbf-f5cd-48b9-8552-19d8d62f4664",
   "metadata": {
    "jp-MarkdownHeadingCollapsed": true
   },
   "source": [
    "### 강남구, 종로구, 중구 월별 계절성확인"
   ]
  },
  {
   "cell_type": "code",
   "execution_count": 82,
   "id": "e46301d9-3a05-4564-b48a-f4931057b108",
   "metadata": {},
   "outputs": [],
   "source": [
    "query = \"\"\"\n",
    "WITH rental_counts AS (\n",
    "  -- 각 구와 일별로 대여된 대수 집계\n",
    "  SELECT \n",
    "    DATE(A.Date_and_time_of_rental) AS DAY,  -- 일 단위로 포맷팅\n",
    "    EXTRACT(HOUR FROM A.Date_and_time_of_rental) AS hour,  -- 시간대 추출\n",
    "    REGEXP_EXTRACT(B_rent.Address_1, r'([가-힣]+구)') AS district,  -- 대여 구 추출\n",
    "    B_rent.Rental_location_ID,  -- 대여 장소 ID\n",
    "    COUNT(*) AS rental_count  -- 대여 횟수 집계\n",
    "  FROM \n",
    "    `multi-final-project.Rental_usage_history.Rental_usage_history_2305` AS A\n",
    "  JOIN \n",
    "    `multi-final-project.Rental_Location_ID_master.Rental_Location_ID_master_la_lo` AS B_rent\n",
    "  ON \n",
    "    A.Rental_Location_ID = B_rent.Rental_Location_ID  -- 대여 위치\n",
    "  WHERE \n",
    "    NOT REGEXP_CONTAINS(B_rent.Address_1, r'경기도')  -- 경기도 제외\n",
    "    AND REGEXP_CONTAINS(B_rent.Address_1, r'강남구')  -- 강남구만 불러오기\n",
    "  GROUP BY \n",
    "    district, DAY, hour, B_rent.Rental_location_ID  -- 구, 일, 시간대, 대여 장소 ID로 그룹화\n",
    "),\n",
    "return_counts AS (\n",
    "  -- 월별로 반납된 대수 집계\n",
    "  SELECT\n",
    "    DATE(A.Date_and_time_of_rental) AS DAY,  -- 일 단위로 포맷팅\n",
    "    EXTRACT(HOUR FROM A.Date_and_time_of_rental) AS hour,  -- 시간대 추출\n",
    "    REGEXP_EXTRACT(B_return.Address_1, r'([가-힣]+구)') AS district,  -- 반납 구 추출\n",
    "    B_return.Rental_location_ID,  -- 반납 장소 ID\n",
    "    COUNT(*) AS return_count  -- 반납 횟수 집계\n",
    "  FROM \n",
    "    `multi-final-project.Rental_usage_history.Rental_usage_history_2305` AS A\n",
    "  JOIN \n",
    "    `multi-final-project.Rental_Location_ID_master.Rental_Location_ID_master_la_lo` AS B_return\n",
    "  ON \n",
    "    A.Return_Location_ID = B_return.Rental_Location_ID  -- 반납 위치\n",
    "  WHERE \n",
    "    NOT REGEXP_CONTAINS(B_return.Address_1, r'경기도')  -- 경기도 제외\n",
    "    AND REGEXP_CONTAINS(B_return.Address_1, r'강남구')  -- 강남구만 불러오기\n",
    "  GROUP BY \n",
    "    district, DAY, hour, B_return.Rental_location_ID  -- 구, 일, 시간대, 반납 장소 ID로 그룹화\n",
    ")\n",
    "-- 두 집계 결과를 결합하여 대여와 반납 차이 계산\n",
    "SELECT\n",
    "  COALESCE(rental_counts.Rental_location_ID, return_counts.Rental_location_ID) AS Rental_location_ID,  -- 대여/반납 장소 ID\n",
    "  COALESCE(rental_counts.DAY, return_counts.DAY) AS DAY,  -- 날짜\n",
    "  COALESCE(rental_counts.hour, return_counts.hour) AS hour,  -- 시간대\n",
    "  COALESCE(rental_counts.district, return_counts.district) AS district,  -- 구 이름\n",
    "  COALESCE(rental_count, 0) AS rental_count,  -- 대여 대수\n",
    "  COALESCE(return_count, 0) AS return_count,  -- 반납 대수\n",
    "  (COALESCE(return_count, 0) - COALESCE(rental_count, 0)) AS count_difference  -- 반납 - 대여 차이\n",
    "FROM \n",
    "  rental_counts\n",
    "FULL OUTER JOIN \n",
    "  return_counts\n",
    "ON \n",
    "  rental_counts.district = return_counts.district\n",
    "  AND rental_counts.DAY = return_counts.DAY\n",
    "  AND rental_counts.hour = return_counts.hour\n",
    "  AND rental_counts.Rental_location_ID = return_counts.Rental_location_ID  -- 일, 시간대, 장소 ID를 기준으로 결합\n",
    "ORDER BY \n",
    "  DAY, hour ASC  -- 일과 시간대 순서대로 정렬\n",
    "LIMIT 1000;\n",
    "\"\"\""
   ]
  },
  {
   "cell_type": "code",
   "execution_count": 83,
   "id": "1ecd528d-1204-47e8-aaf1-51454921b98e",
   "metadata": {},
   "outputs": [
    {
     "name": "stderr",
     "output_type": "stream",
     "text": [
      "/Library/Frameworks/Python.framework/Versions/3.12/lib/python3.12/site-packages/google/cloud/bigquery/table.py:1727: UserWarning: BigQuery Storage module not found, fetch data with the REST endpoint instead.\n",
      "  warnings.warn(\n"
     ]
    }
   ],
   "source": [
    "month_gu_df = client.query(query).to_dataframe()"
   ]
  },
  {
   "cell_type": "code",
   "execution_count": 84,
   "id": "eebb0acd-ac0d-4345-9207-a18f9cdae5b7",
   "metadata": {},
   "outputs": [
    {
     "name": "stdout",
     "output_type": "stream",
     "text": [
      "<class 'pandas.core.frame.DataFrame'>\n",
      "RangeIndex: 1000 entries, 0 to 999\n",
      "Data columns (total 7 columns):\n",
      " #   Column              Non-Null Count  Dtype \n",
      "---  ------              --------------  ----- \n",
      " 0   Rental_location_ID  1000 non-null   object\n",
      " 1   DAY                 1000 non-null   dbdate\n",
      " 2   hour                1000 non-null   Int64 \n",
      " 3   district            1000 non-null   object\n",
      " 4   rental_count        1000 non-null   Int64 \n",
      " 5   return_count        1000 non-null   Int64 \n",
      " 6   count_difference    1000 non-null   Int64 \n",
      "dtypes: Int64(4), dbdate(1), object(2)\n",
      "memory usage: 58.7+ KB\n"
     ]
    }
   ],
   "source": [
    "month_gu_df.info()"
   ]
  },
  {
   "cell_type": "code",
   "execution_count": 85,
   "id": "a8a1eb4b-993c-48a1-91d7-5b0c4902de8b",
   "metadata": {},
   "outputs": [],
   "source": [
    "unique_values = month_gu_df['Rental_location_ID'].unique()"
   ]
  },
  {
   "cell_type": "code",
   "execution_count": 87,
   "id": "c261ce54-ba3a-4df3-80c3-19d52d78f89d",
   "metadata": {},
   "outputs": [],
   "source": [
    "count_unique_values = len(unique_values)"
   ]
  },
  {
   "cell_type": "code",
   "execution_count": 88,
   "id": "92c757e1-6704-4bbe-929f-8da1b8c684a2",
   "metadata": {},
   "outputs": [
    {
     "data": {
      "text/plain": [
       "166"
      ]
     },
     "execution_count": 88,
     "metadata": {},
     "output_type": "execute_result"
    }
   ],
   "source": [
    "count_unique_values"
   ]
  },
  {
   "cell_type": "code",
   "execution_count": 80,
   "id": "84072f84-4081-4fe1-b855-0136d976e798",
   "metadata": {},
   "outputs": [],
   "source": [
    "month_gu_df.set_index(\"district\", inplace=True)"
   ]
  },
  {
   "cell_type": "code",
   "execution_count": 81,
   "id": "569b7c40-b33f-4c26-974e-a6da8cee5133",
   "metadata": {},
   "outputs": [
    {
     "data": {
      "text/html": [
       "<div>\n",
       "<style scoped>\n",
       "    .dataframe tbody tr th:only-of-type {\n",
       "        vertical-align: middle;\n",
       "    }\n",
       "\n",
       "    .dataframe tbody tr th {\n",
       "        vertical-align: top;\n",
       "    }\n",
       "\n",
       "    .dataframe thead th {\n",
       "        text-align: right;\n",
       "    }\n",
       "</style>\n",
       "<table border=\"1\" class=\"dataframe\">\n",
       "  <thead>\n",
       "    <tr style=\"text-align: right;\">\n",
       "      <th></th>\n",
       "      <th>MONTH</th>\n",
       "      <th>rental_count</th>\n",
       "      <th>return_count</th>\n",
       "      <th>count_difference</th>\n",
       "    </tr>\n",
       "    <tr>\n",
       "      <th>district</th>\n",
       "      <th></th>\n",
       "      <th></th>\n",
       "      <th></th>\n",
       "      <th></th>\n",
       "    </tr>\n",
       "  </thead>\n",
       "  <tbody>\n",
       "    <tr>\n",
       "      <th>강남구</th>\n",
       "      <td>2023-05</td>\n",
       "      <td>164493</td>\n",
       "      <td>155262</td>\n",
       "      <td>-9231</td>\n",
       "    </tr>\n",
       "    <tr>\n",
       "      <th>강남구</th>\n",
       "      <td>2023-10</td>\n",
       "      <td>182304</td>\n",
       "      <td>173300</td>\n",
       "      <td>-9004</td>\n",
       "    </tr>\n",
       "    <tr>\n",
       "      <th>종로구</th>\n",
       "      <td>2023-05</td>\n",
       "      <td>174589</td>\n",
       "      <td>165655</td>\n",
       "      <td>-8934</td>\n",
       "    </tr>\n",
       "    <tr>\n",
       "      <th>강남구</th>\n",
       "      <td>2023-09</td>\n",
       "      <td>151515</td>\n",
       "      <td>143188</td>\n",
       "      <td>-8327</td>\n",
       "    </tr>\n",
       "    <tr>\n",
       "      <th>종로구</th>\n",
       "      <td>2023-06</td>\n",
       "      <td>166090</td>\n",
       "      <td>157779</td>\n",
       "      <td>-8311</td>\n",
       "    </tr>\n",
       "    <tr>\n",
       "      <th>강남구</th>\n",
       "      <td>2023-04</td>\n",
       "      <td>139836</td>\n",
       "      <td>131760</td>\n",
       "      <td>-8076</td>\n",
       "    </tr>\n",
       "    <tr>\n",
       "      <th>강남구</th>\n",
       "      <td>2023-06</td>\n",
       "      <td>156430</td>\n",
       "      <td>148845</td>\n",
       "      <td>-7585</td>\n",
       "    </tr>\n",
       "    <tr>\n",
       "      <th>종로구</th>\n",
       "      <td>2023-10</td>\n",
       "      <td>182013</td>\n",
       "      <td>174605</td>\n",
       "      <td>-7408</td>\n",
       "    </tr>\n",
       "    <tr>\n",
       "      <th>강남구</th>\n",
       "      <td>2023-08</td>\n",
       "      <td>129221</td>\n",
       "      <td>121847</td>\n",
       "      <td>-7374</td>\n",
       "    </tr>\n",
       "    <tr>\n",
       "      <th>종로구</th>\n",
       "      <td>2023-09</td>\n",
       "      <td>156344</td>\n",
       "      <td>149259</td>\n",
       "      <td>-7085</td>\n",
       "    </tr>\n",
       "    <tr>\n",
       "      <th>중구</th>\n",
       "      <td>2023-05</td>\n",
       "      <td>121214</td>\n",
       "      <td>114267</td>\n",
       "      <td>-6947</td>\n",
       "    </tr>\n",
       "    <tr>\n",
       "      <th>종로구</th>\n",
       "      <td>2023-04</td>\n",
       "      <td>144014</td>\n",
       "      <td>137176</td>\n",
       "      <td>-6838</td>\n",
       "    </tr>\n",
       "    <tr>\n",
       "      <th>종로구</th>\n",
       "      <td>2023-08</td>\n",
       "      <td>136991</td>\n",
       "      <td>130228</td>\n",
       "      <td>-6763</td>\n",
       "    </tr>\n",
       "    <tr>\n",
       "      <th>종로구</th>\n",
       "      <td>2023-07</td>\n",
       "      <td>138866</td>\n",
       "      <td>132259</td>\n",
       "      <td>-6607</td>\n",
       "    </tr>\n",
       "    <tr>\n",
       "      <th>중구</th>\n",
       "      <td>2023-06</td>\n",
       "      <td>116831</td>\n",
       "      <td>110261</td>\n",
       "      <td>-6570</td>\n",
       "    </tr>\n",
       "    <tr>\n",
       "      <th>중구</th>\n",
       "      <td>2023-10</td>\n",
       "      <td>130995</td>\n",
       "      <td>124645</td>\n",
       "      <td>-6350</td>\n",
       "    </tr>\n",
       "    <tr>\n",
       "      <th>종로구</th>\n",
       "      <td>2023-03</td>\n",
       "      <td>140174</td>\n",
       "      <td>133825</td>\n",
       "      <td>-6349</td>\n",
       "    </tr>\n",
       "    <tr>\n",
       "      <th>중구</th>\n",
       "      <td>2023-09</td>\n",
       "      <td>108861</td>\n",
       "      <td>102587</td>\n",
       "      <td>-6274</td>\n",
       "    </tr>\n",
       "    <tr>\n",
       "      <th>강남구</th>\n",
       "      <td>2023-07</td>\n",
       "      <td>121282</td>\n",
       "      <td>115158</td>\n",
       "      <td>-6124</td>\n",
       "    </tr>\n",
       "    <tr>\n",
       "      <th>강남구</th>\n",
       "      <td>2023-03</td>\n",
       "      <td>122990</td>\n",
       "      <td>117117</td>\n",
       "      <td>-5873</td>\n",
       "    </tr>\n",
       "    <tr>\n",
       "      <th>중구</th>\n",
       "      <td>2023-07</td>\n",
       "      <td>98296</td>\n",
       "      <td>92549</td>\n",
       "      <td>-5747</td>\n",
       "    </tr>\n",
       "    <tr>\n",
       "      <th>중구</th>\n",
       "      <td>2023-04</td>\n",
       "      <td>98143</td>\n",
       "      <td>92570</td>\n",
       "      <td>-5573</td>\n",
       "    </tr>\n",
       "    <tr>\n",
       "      <th>중구</th>\n",
       "      <td>2023-08</td>\n",
       "      <td>95527</td>\n",
       "      <td>90383</td>\n",
       "      <td>-5144</td>\n",
       "    </tr>\n",
       "    <tr>\n",
       "      <th>강남구</th>\n",
       "      <td>2023-11</td>\n",
       "      <td>117510</td>\n",
       "      <td>112571</td>\n",
       "      <td>-4939</td>\n",
       "    </tr>\n",
       "    <tr>\n",
       "      <th>중구</th>\n",
       "      <td>2023-03</td>\n",
       "      <td>96488</td>\n",
       "      <td>91581</td>\n",
       "      <td>-4907</td>\n",
       "    </tr>\n",
       "    <tr>\n",
       "      <th>종로구</th>\n",
       "      <td>2023-11</td>\n",
       "      <td>129307</td>\n",
       "      <td>125689</td>\n",
       "      <td>-3618</td>\n",
       "    </tr>\n",
       "    <tr>\n",
       "      <th>중구</th>\n",
       "      <td>2023-11</td>\n",
       "      <td>90895</td>\n",
       "      <td>87479</td>\n",
       "      <td>-3416</td>\n",
       "    </tr>\n",
       "    <tr>\n",
       "      <th>강남구</th>\n",
       "      <td>2023-02</td>\n",
       "      <td>72117</td>\n",
       "      <td>69163</td>\n",
       "      <td>-2954</td>\n",
       "    </tr>\n",
       "    <tr>\n",
       "      <th>종로구</th>\n",
       "      <td>2023-02</td>\n",
       "      <td>85283</td>\n",
       "      <td>82770</td>\n",
       "      <td>-2513</td>\n",
       "    </tr>\n",
       "    <tr>\n",
       "      <th>중구</th>\n",
       "      <td>2023-02</td>\n",
       "      <td>59331</td>\n",
       "      <td>57104</td>\n",
       "      <td>-2227</td>\n",
       "    </tr>\n",
       "    <tr>\n",
       "      <th>강남구</th>\n",
       "      <td>2023-12</td>\n",
       "      <td>65899</td>\n",
       "      <td>63776</td>\n",
       "      <td>-2123</td>\n",
       "    </tr>\n",
       "    <tr>\n",
       "      <th>강남구</th>\n",
       "      <td>2023-01</td>\n",
       "      <td>48272</td>\n",
       "      <td>46419</td>\n",
       "      <td>-1853</td>\n",
       "    </tr>\n",
       "    <tr>\n",
       "      <th>중구</th>\n",
       "      <td>2023-12</td>\n",
       "      <td>55510</td>\n",
       "      <td>53675</td>\n",
       "      <td>-1835</td>\n",
       "    </tr>\n",
       "    <tr>\n",
       "      <th>종로구</th>\n",
       "      <td>2023-12</td>\n",
       "      <td>78096</td>\n",
       "      <td>76297</td>\n",
       "      <td>-1799</td>\n",
       "    </tr>\n",
       "    <tr>\n",
       "      <th>종로구</th>\n",
       "      <td>2023-01</td>\n",
       "      <td>60468</td>\n",
       "      <td>58859</td>\n",
       "      <td>-1609</td>\n",
       "    </tr>\n",
       "    <tr>\n",
       "      <th>중구</th>\n",
       "      <td>2023-01</td>\n",
       "      <td>41018</td>\n",
       "      <td>39590</td>\n",
       "      <td>-1428</td>\n",
       "    </tr>\n",
       "  </tbody>\n",
       "</table>\n",
       "</div>"
      ],
      "text/plain": [
       "            MONTH  rental_count  return_count  count_difference\n",
       "district                                                       \n",
       "강남구       2023-05        164493        155262             -9231\n",
       "강남구       2023-10        182304        173300             -9004\n",
       "종로구       2023-05        174589        165655             -8934\n",
       "강남구       2023-09        151515        143188             -8327\n",
       "종로구       2023-06        166090        157779             -8311\n",
       "강남구       2023-04        139836        131760             -8076\n",
       "강남구       2023-06        156430        148845             -7585\n",
       "종로구       2023-10        182013        174605             -7408\n",
       "강남구       2023-08        129221        121847             -7374\n",
       "종로구       2023-09        156344        149259             -7085\n",
       "중구        2023-05        121214        114267             -6947\n",
       "종로구       2023-04        144014        137176             -6838\n",
       "종로구       2023-08        136991        130228             -6763\n",
       "종로구       2023-07        138866        132259             -6607\n",
       "중구        2023-06        116831        110261             -6570\n",
       "중구        2023-10        130995        124645             -6350\n",
       "종로구       2023-03        140174        133825             -6349\n",
       "중구        2023-09        108861        102587             -6274\n",
       "강남구       2023-07        121282        115158             -6124\n",
       "강남구       2023-03        122990        117117             -5873\n",
       "중구        2023-07         98296         92549             -5747\n",
       "중구        2023-04         98143         92570             -5573\n",
       "중구        2023-08         95527         90383             -5144\n",
       "강남구       2023-11        117510        112571             -4939\n",
       "중구        2023-03         96488         91581             -4907\n",
       "종로구       2023-11        129307        125689             -3618\n",
       "중구        2023-11         90895         87479             -3416\n",
       "강남구       2023-02         72117         69163             -2954\n",
       "종로구       2023-02         85283         82770             -2513\n",
       "중구        2023-02         59331         57104             -2227\n",
       "강남구       2023-12         65899         63776             -2123\n",
       "강남구       2023-01         48272         46419             -1853\n",
       "중구        2023-12         55510         53675             -1835\n",
       "종로구       2023-12         78096         76297             -1799\n",
       "종로구       2023-01         60468         58859             -1609\n",
       "중구        2023-01         41018         39590             -1428"
      ]
     },
     "execution_count": 81,
     "metadata": {},
     "output_type": "execute_result"
    }
   ],
   "source": [
    "month_gu_df"
   ]
  },
  {
   "cell_type": "code",
   "execution_count": null,
   "id": "f35a9440-b9c4-45c5-a66a-55cf9437e9cb",
   "metadata": {},
   "outputs": [],
   "source": []
  }
 ],
 "metadata": {
  "kernelspec": {
   "display_name": "Python 3 (ipykernel)",
   "language": "python",
   "name": "python3"
  },
  "language_info": {
   "codemirror_mode": {
    "name": "ipython",
    "version": 3
   },
   "file_extension": ".py",
   "mimetype": "text/x-python",
   "name": "python",
   "nbconvert_exporter": "python",
   "pygments_lexer": "ipython3",
   "version": "3.12.3"
  }
 },
 "nbformat": 4,
 "nbformat_minor": 5
}
