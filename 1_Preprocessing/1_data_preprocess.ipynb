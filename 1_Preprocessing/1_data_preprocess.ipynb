{
 "cells": [
  {
   "cell_type": "markdown",
   "id": "23c391a9-193f-49f3-ae6c-c990b0d43309",
   "metadata": {
    "jp-MarkdownHeadingCollapsed": true
   },
   "source": [
    "### 대여가능 재고 빅쿼리 업로드 전 컬럼통일 22_23_24 전처리\n",
    "공공데이터를 빅쿼리 업로드 전 전처리를 진행했습니다. raw_data 중 대용량 데이터는 github 업데이트 제외"
   ]
  },
  {
   "cell_type": "code",
   "execution_count": 1,
   "id": "832fdf5c-9005-4a05-9c99-3580d184f8bc",
   "metadata": {},
   "outputs": [],
   "source": [
    "import pandas as pd\n",
    "\n",
    "first_df = pd.read_csv('./data/raw_data/22.03.csv', encoding='cp949')"
   ]
  },
  {
   "cell_type": "code",
   "execution_count": 2,
   "id": "83db7105-2642-430f-842f-3be2a934ad0a",
   "metadata": {},
   "outputs": [
    {
     "name": "stdout",
     "output_type": "stream",
     "text": [
      "Index(['일시', '대여소번호', '대여소명', '시간대', '거치대수량'], dtype='object')\n"
     ]
    }
   ],
   "source": [
    "print(first_df.columns)"
   ]
  },
  {
   "cell_type": "code",
   "execution_count": 3,
   "id": "38bb7ad0-ba18-4814-88ad-e525e05cfd3e",
   "metadata": {},
   "outputs": [],
   "source": [
    "first_df.columns = ['Date', \n",
    "              'Rental_location_number', \n",
    "              'Name_of_the_rental_location', \n",
    "              'Time',\n",
    "              'Num_of_available_bikes']"
   ]
  },
  {
   "cell_type": "code",
   "execution_count": 4,
   "id": "981d55f1-5191-4ed5-bd20-4dd1915828ad",
   "metadata": {},
   "outputs": [
    {
     "data": {
      "text/html": [
       "<div>\n",
       "<style scoped>\n",
       "    .dataframe tbody tr th:only-of-type {\n",
       "        vertical-align: middle;\n",
       "    }\n",
       "\n",
       "    .dataframe tbody tr th {\n",
       "        vertical-align: top;\n",
       "    }\n",
       "\n",
       "    .dataframe thead th {\n",
       "        text-align: right;\n",
       "    }\n",
       "</style>\n",
       "<table border=\"1\" class=\"dataframe\">\n",
       "  <thead>\n",
       "    <tr style=\"text-align: right;\">\n",
       "      <th></th>\n",
       "      <th>Date</th>\n",
       "      <th>Rental_location_number</th>\n",
       "      <th>Name_of_the_rental_location</th>\n",
       "      <th>Time</th>\n",
       "      <th>Num_of_available_bikes</th>\n",
       "    </tr>\n",
       "  </thead>\n",
       "  <tbody>\n",
       "    <tr>\n",
       "      <th>0</th>\n",
       "      <td>2022-03-01</td>\n",
       "      <td>102</td>\n",
       "      <td>102. 망원역 1번출구 앞</td>\n",
       "      <td>0</td>\n",
       "      <td>19</td>\n",
       "    </tr>\n",
       "    <tr>\n",
       "      <th>1</th>\n",
       "      <td>2022-03-01</td>\n",
       "      <td>102</td>\n",
       "      <td>102. 망원역 1번출구 앞</td>\n",
       "      <td>1</td>\n",
       "      <td>17</td>\n",
       "    </tr>\n",
       "    <tr>\n",
       "      <th>2</th>\n",
       "      <td>2022-03-01</td>\n",
       "      <td>102</td>\n",
       "      <td>102. 망원역 1번출구 앞</td>\n",
       "      <td>2</td>\n",
       "      <td>19</td>\n",
       "    </tr>\n",
       "    <tr>\n",
       "      <th>3</th>\n",
       "      <td>2022-03-01</td>\n",
       "      <td>102</td>\n",
       "      <td>102. 망원역 1번출구 앞</td>\n",
       "      <td>3</td>\n",
       "      <td>19</td>\n",
       "    </tr>\n",
       "    <tr>\n",
       "      <th>4</th>\n",
       "      <td>2022-03-01</td>\n",
       "      <td>102</td>\n",
       "      <td>102. 망원역 1번출구 앞</td>\n",
       "      <td>4</td>\n",
       "      <td>20</td>\n",
       "    </tr>\n",
       "    <tr>\n",
       "      <th>...</th>\n",
       "      <td>...</td>\n",
       "      <td>...</td>\n",
       "      <td>...</td>\n",
       "      <td>...</td>\n",
       "      <td>...</td>\n",
       "    </tr>\n",
       "    <tr>\n",
       "      <th>186150</th>\n",
       "      <td>2022-03-03</td>\n",
       "      <td>5852</td>\n",
       "      <td>5852. 대림동현대2차 201동 앞</td>\n",
       "      <td>19</td>\n",
       "      <td>1</td>\n",
       "    </tr>\n",
       "    <tr>\n",
       "      <th>186151</th>\n",
       "      <td>2022-03-03</td>\n",
       "      <td>5852</td>\n",
       "      <td>5852. 대림동현대2차 201동 앞</td>\n",
       "      <td>20</td>\n",
       "      <td>1</td>\n",
       "    </tr>\n",
       "    <tr>\n",
       "      <th>186152</th>\n",
       "      <td>2022-03-03</td>\n",
       "      <td>5852</td>\n",
       "      <td>5852. 대림동현대2차 201동 앞</td>\n",
       "      <td>21</td>\n",
       "      <td>1</td>\n",
       "    </tr>\n",
       "    <tr>\n",
       "      <th>186153</th>\n",
       "      <td>2022-03-03</td>\n",
       "      <td>5852</td>\n",
       "      <td>5852. 대림동현대2차 201동 앞</td>\n",
       "      <td>22</td>\n",
       "      <td>1</td>\n",
       "    </tr>\n",
       "    <tr>\n",
       "      <th>186154</th>\n",
       "      <td>2022-03-03</td>\n",
       "      <td>5852</td>\n",
       "      <td>5852. 대림동현대2차 201동 앞</td>\n",
       "      <td>23</td>\n",
       "      <td>1</td>\n",
       "    </tr>\n",
       "  </tbody>\n",
       "</table>\n",
       "<p>186155 rows × 5 columns</p>\n",
       "</div>"
      ],
      "text/plain": [
       "              Date  Rental_location_number Name_of_the_rental_location  Time  \\\n",
       "0       2022-03-01                     102             102. 망원역 1번출구 앞     0   \n",
       "1       2022-03-01                     102             102. 망원역 1번출구 앞     1   \n",
       "2       2022-03-01                     102             102. 망원역 1번출구 앞     2   \n",
       "3       2022-03-01                     102             102. 망원역 1번출구 앞     3   \n",
       "4       2022-03-01                     102             102. 망원역 1번출구 앞     4   \n",
       "...            ...                     ...                         ...   ...   \n",
       "186150  2022-03-03                    5852        5852. 대림동현대2차 201동 앞    19   \n",
       "186151  2022-03-03                    5852        5852. 대림동현대2차 201동 앞    20   \n",
       "186152  2022-03-03                    5852        5852. 대림동현대2차 201동 앞    21   \n",
       "186153  2022-03-03                    5852        5852. 대림동현대2차 201동 앞    22   \n",
       "186154  2022-03-03                    5852        5852. 대림동현대2차 201동 앞    23   \n",
       "\n",
       "        Num_of_available_bikes  \n",
       "0                           19  \n",
       "1                           17  \n",
       "2                           19  \n",
       "3                           19  \n",
       "4                           20  \n",
       "...                        ...  \n",
       "186150                       1  \n",
       "186151                       1  \n",
       "186152                       1  \n",
       "186153                       1  \n",
       "186154                       1  \n",
       "\n",
       "[186155 rows x 5 columns]"
      ]
     },
     "execution_count": 4,
     "metadata": {},
     "output_type": "execute_result"
    }
   ],
   "source": [
    "first_df"
   ]
  },
  {
   "cell_type": "code",
   "execution_count": 33,
   "id": "ced90cf7-f0af-4a6b-9e79-afb76e27c6a8",
   "metadata": {},
   "outputs": [],
   "source": [
    "second_df = pd.read_csv('./data/raw_data/서울특별시_대여소별 공공자전거 대여가능 수량(1시간 단위)_2023년도_4분기/data_231216~231231.csv', encoding='cp949')"
   ]
  },
  {
   "cell_type": "code",
   "execution_count": 34,
   "id": "b512645a-98be-4168-b565-33f2fb143dd5",
   "metadata": {},
   "outputs": [],
   "source": [
    "second_df.columns = ['Date', \n",
    "              'Rental_location_number', \n",
    "              'Name_of_the_rental_location', \n",
    "              'Time',\n",
    "              'Num_of_available bikes']"
   ]
  },
  {
   "cell_type": "code",
   "execution_count": 35,
   "id": "8968e81e-2195-4a01-85c6-b852b40ba803",
   "metadata": {},
   "outputs": [
    {
     "data": {
      "text/html": [
       "<div>\n",
       "<style scoped>\n",
       "    .dataframe tbody tr th:only-of-type {\n",
       "        vertical-align: middle;\n",
       "    }\n",
       "\n",
       "    .dataframe tbody tr th {\n",
       "        vertical-align: top;\n",
       "    }\n",
       "\n",
       "    .dataframe thead th {\n",
       "        text-align: right;\n",
       "    }\n",
       "</style>\n",
       "<table border=\"1\" class=\"dataframe\">\n",
       "  <thead>\n",
       "    <tr style=\"text-align: right;\">\n",
       "      <th></th>\n",
       "      <th>Date</th>\n",
       "      <th>Rental_location_number</th>\n",
       "      <th>Name_of_the_rental_location</th>\n",
       "      <th>Time</th>\n",
       "      <th>Num_of_available bikes</th>\n",
       "    </tr>\n",
       "  </thead>\n",
       "  <tbody>\n",
       "    <tr>\n",
       "      <th>0</th>\n",
       "      <td>2023-12-16</td>\n",
       "      <td>103</td>\n",
       "      <td>103. 망원역 2번출구 앞</td>\n",
       "      <td>0</td>\n",
       "      <td>26</td>\n",
       "    </tr>\n",
       "    <tr>\n",
       "      <th>1</th>\n",
       "      <td>2023-12-16</td>\n",
       "      <td>104</td>\n",
       "      <td>104. 합정역 1번출구 앞</td>\n",
       "      <td>0</td>\n",
       "      <td>21</td>\n",
       "    </tr>\n",
       "    <tr>\n",
       "      <th>2</th>\n",
       "      <td>2023-12-16</td>\n",
       "      <td>105</td>\n",
       "      <td>105. 합정역 5번출구 앞</td>\n",
       "      <td>0</td>\n",
       "      <td>6</td>\n",
       "    </tr>\n",
       "    <tr>\n",
       "      <th>3</th>\n",
       "      <td>2023-12-16</td>\n",
       "      <td>106</td>\n",
       "      <td>106. 합정역 7번출구 앞</td>\n",
       "      <td>0</td>\n",
       "      <td>3</td>\n",
       "    </tr>\n",
       "    <tr>\n",
       "      <th>4</th>\n",
       "      <td>2023-12-16</td>\n",
       "      <td>107</td>\n",
       "      <td>107. 신한은행 서교동지점</td>\n",
       "      <td>0</td>\n",
       "      <td>4</td>\n",
       "    </tr>\n",
       "    <tr>\n",
       "      <th>...</th>\n",
       "      <td>...</td>\n",
       "      <td>...</td>\n",
       "      <td>...</td>\n",
       "      <td>...</td>\n",
       "      <td>...</td>\n",
       "    </tr>\n",
       "    <tr>\n",
       "      <th>6265925</th>\n",
       "      <td>2023-12-31</td>\n",
       "      <td>6053</td>\n",
       "      <td>6053. 중부세무서 앞</td>\n",
       "      <td>23</td>\n",
       "      <td>0</td>\n",
       "    </tr>\n",
       "    <tr>\n",
       "      <th>6265926</th>\n",
       "      <td>2023-12-31</td>\n",
       "      <td>6054</td>\n",
       "      <td>6054.청구e편한세상아파트 113동 앞</td>\n",
       "      <td>23</td>\n",
       "      <td>5</td>\n",
       "    </tr>\n",
       "    <tr>\n",
       "      <th>6265927</th>\n",
       "      <td>2023-12-31</td>\n",
       "      <td>6055</td>\n",
       "      <td>6055. 한국경제</td>\n",
       "      <td>23</td>\n",
       "      <td>12</td>\n",
       "    </tr>\n",
       "    <tr>\n",
       "      <th>6265928</th>\n",
       "      <td>2023-12-31</td>\n",
       "      <td>6171</td>\n",
       "      <td>6171. 월드빌딩 앞</td>\n",
       "      <td>23</td>\n",
       "      <td>0</td>\n",
       "    </tr>\n",
       "    <tr>\n",
       "      <th>6265929</th>\n",
       "      <td>2023-12-31</td>\n",
       "      <td>6172</td>\n",
       "      <td>6172. 가양5단지아파트</td>\n",
       "      <td>23</td>\n",
       "      <td>9</td>\n",
       "    </tr>\n",
       "  </tbody>\n",
       "</table>\n",
       "<p>6265930 rows × 5 columns</p>\n",
       "</div>"
      ],
      "text/plain": [
       "               Date  Rental_location_number Name_of_the_rental_location  Time  \\\n",
       "0        2023-12-16                     103             103. 망원역 2번출구 앞     0   \n",
       "1        2023-12-16                     104             104. 합정역 1번출구 앞     0   \n",
       "2        2023-12-16                     105             105. 합정역 5번출구 앞     0   \n",
       "3        2023-12-16                     106             106. 합정역 7번출구 앞     0   \n",
       "4        2023-12-16                     107             107. 신한은행 서교동지점     0   \n",
       "...             ...                     ...                         ...   ...   \n",
       "6265925  2023-12-31                    6053               6053. 중부세무서 앞    23   \n",
       "6265926  2023-12-31                    6054      6054.청구e편한세상아파트 113동 앞    23   \n",
       "6265927  2023-12-31                    6055                  6055. 한국경제    23   \n",
       "6265928  2023-12-31                    6171                6171. 월드빌딩 앞    23   \n",
       "6265929  2023-12-31                    6172              6172. 가양5단지아파트    23   \n",
       "\n",
       "         Num_of_available bikes  \n",
       "0                            26  \n",
       "1                            21  \n",
       "2                             6  \n",
       "3                             3  \n",
       "4                             4  \n",
       "...                         ...  \n",
       "6265925                       0  \n",
       "6265926                       5  \n",
       "6265927                      12  \n",
       "6265928                       0  \n",
       "6265929                       9  \n",
       "\n",
       "[6265930 rows x 5 columns]"
      ]
     },
     "execution_count": 35,
     "metadata": {},
     "output_type": "execute_result"
    }
   ],
   "source": [
    "second_df"
   ]
  },
  {
   "cell_type": "code",
   "execution_count": 36,
   "id": "8bb3ddc9-af8f-4ad6-907a-ab9ea77c24ac",
   "metadata": {},
   "outputs": [],
   "source": [
    "result = pd.concat([first_df, second_df], axis=0)"
   ]
  },
  {
   "cell_type": "code",
   "execution_count": 37,
   "id": "bf973bd5-da52-499c-9470-673ec0a976a4",
   "metadata": {},
   "outputs": [
    {
     "data": {
      "text/html": [
       "<div>\n",
       "<style scoped>\n",
       "    .dataframe tbody tr th:only-of-type {\n",
       "        vertical-align: middle;\n",
       "    }\n",
       "\n",
       "    .dataframe tbody tr th {\n",
       "        vertical-align: top;\n",
       "    }\n",
       "\n",
       "    .dataframe thead th {\n",
       "        text-align: right;\n",
       "    }\n",
       "</style>\n",
       "<table border=\"1\" class=\"dataframe\">\n",
       "  <thead>\n",
       "    <tr style=\"text-align: right;\">\n",
       "      <th></th>\n",
       "      <th>Date</th>\n",
       "      <th>Rental_location_number</th>\n",
       "      <th>Name_of_the_rental_location</th>\n",
       "      <th>Time</th>\n",
       "      <th>Num_of_available bikes</th>\n",
       "    </tr>\n",
       "  </thead>\n",
       "  <tbody>\n",
       "    <tr>\n",
       "      <th>0</th>\n",
       "      <td>2023-12-01</td>\n",
       "      <td>103</td>\n",
       "      <td>103. 망원역 2번출구 앞</td>\n",
       "      <td>0</td>\n",
       "      <td>21</td>\n",
       "    </tr>\n",
       "    <tr>\n",
       "      <th>1</th>\n",
       "      <td>2023-12-01</td>\n",
       "      <td>104</td>\n",
       "      <td>104. 합정역 1번출구 앞</td>\n",
       "      <td>0</td>\n",
       "      <td>8</td>\n",
       "    </tr>\n",
       "    <tr>\n",
       "      <th>2</th>\n",
       "      <td>2023-12-01</td>\n",
       "      <td>105</td>\n",
       "      <td>105. 합정역 5번출구 앞</td>\n",
       "      <td>0</td>\n",
       "      <td>15</td>\n",
       "    </tr>\n",
       "    <tr>\n",
       "      <th>3</th>\n",
       "      <td>2023-12-01</td>\n",
       "      <td>106</td>\n",
       "      <td>106. 합정역 7번출구 앞</td>\n",
       "      <td>0</td>\n",
       "      <td>2</td>\n",
       "    </tr>\n",
       "    <tr>\n",
       "      <th>4</th>\n",
       "      <td>2023-12-01</td>\n",
       "      <td>107</td>\n",
       "      <td>107. 신한은행 서교동지점</td>\n",
       "      <td>0</td>\n",
       "      <td>2</td>\n",
       "    </tr>\n",
       "    <tr>\n",
       "      <th>...</th>\n",
       "      <td>...</td>\n",
       "      <td>...</td>\n",
       "      <td>...</td>\n",
       "      <td>...</td>\n",
       "      <td>...</td>\n",
       "    </tr>\n",
       "    <tr>\n",
       "      <th>6265925</th>\n",
       "      <td>2023-12-31</td>\n",
       "      <td>6053</td>\n",
       "      <td>6053. 중부세무서 앞</td>\n",
       "      <td>23</td>\n",
       "      <td>0</td>\n",
       "    </tr>\n",
       "    <tr>\n",
       "      <th>6265926</th>\n",
       "      <td>2023-12-31</td>\n",
       "      <td>6054</td>\n",
       "      <td>6054.청구e편한세상아파트 113동 앞</td>\n",
       "      <td>23</td>\n",
       "      <td>5</td>\n",
       "    </tr>\n",
       "    <tr>\n",
       "      <th>6265927</th>\n",
       "      <td>2023-12-31</td>\n",
       "      <td>6055</td>\n",
       "      <td>6055. 한국경제</td>\n",
       "      <td>23</td>\n",
       "      <td>12</td>\n",
       "    </tr>\n",
       "    <tr>\n",
       "      <th>6265928</th>\n",
       "      <td>2023-12-31</td>\n",
       "      <td>6171</td>\n",
       "      <td>6171. 월드빌딩 앞</td>\n",
       "      <td>23</td>\n",
       "      <td>0</td>\n",
       "    </tr>\n",
       "    <tr>\n",
       "      <th>6265929</th>\n",
       "      <td>2023-12-31</td>\n",
       "      <td>6172</td>\n",
       "      <td>6172. 가양5단지아파트</td>\n",
       "      <td>23</td>\n",
       "      <td>9</td>\n",
       "    </tr>\n",
       "  </tbody>\n",
       "</table>\n",
       "<p>12128999 rows × 5 columns</p>\n",
       "</div>"
      ],
      "text/plain": [
       "               Date  Rental_location_number Name_of_the_rental_location  Time  \\\n",
       "0        2023-12-01                     103             103. 망원역 2번출구 앞     0   \n",
       "1        2023-12-01                     104             104. 합정역 1번출구 앞     0   \n",
       "2        2023-12-01                     105             105. 합정역 5번출구 앞     0   \n",
       "3        2023-12-01                     106             106. 합정역 7번출구 앞     0   \n",
       "4        2023-12-01                     107             107. 신한은행 서교동지점     0   \n",
       "...             ...                     ...                         ...   ...   \n",
       "6265925  2023-12-31                    6053               6053. 중부세무서 앞    23   \n",
       "6265926  2023-12-31                    6054      6054.청구e편한세상아파트 113동 앞    23   \n",
       "6265927  2023-12-31                    6055                  6055. 한국경제    23   \n",
       "6265928  2023-12-31                    6171                6171. 월드빌딩 앞    23   \n",
       "6265929  2023-12-31                    6172              6172. 가양5단지아파트    23   \n",
       "\n",
       "         Num_of_available bikes  \n",
       "0                            21  \n",
       "1                             8  \n",
       "2                            15  \n",
       "3                             2  \n",
       "4                             2  \n",
       "...                         ...  \n",
       "6265925                       0  \n",
       "6265926                       5  \n",
       "6265927                      12  \n",
       "6265928                       0  \n",
       "6265929                       9  \n",
       "\n",
       "[12128999 rows x 5 columns]"
      ]
     },
     "execution_count": 37,
     "metadata": {},
     "output_type": "execute_result"
    }
   ],
   "source": [
    "result"
   ]
  },
  {
   "cell_type": "code",
   "execution_count": 38,
   "id": "b3e6826f-da5b-4574-9cfe-43f123f7f628",
   "metadata": {},
   "outputs": [],
   "source": [
    "result.to_csv('./data/preprocessed_data/available_bikes/Num_of_available_bikes_12.csv', encoding='utf-8', index=False)"
   ]
  },
  {
   "cell_type": "code",
   "execution_count": 39,
   "id": "aebf2d35-b6eb-43b3-9842-d34f801cdffa",
   "metadata": {},
   "outputs": [],
   "source": [
    "check = pd.read_csv('./data/preprocessed_data/available_bikes/Num_of_available_bikes_11.csv')"
   ]
  },
  {
   "cell_type": "code",
   "execution_count": 40,
   "id": "017ff730-d339-4330-a40e-564b4ee0f9db",
   "metadata": {},
   "outputs": [
    {
     "data": {
      "text/html": [
       "<div>\n",
       "<style scoped>\n",
       "    .dataframe tbody tr th:only-of-type {\n",
       "        vertical-align: middle;\n",
       "    }\n",
       "\n",
       "    .dataframe tbody tr th {\n",
       "        vertical-align: top;\n",
       "    }\n",
       "\n",
       "    .dataframe thead th {\n",
       "        text-align: right;\n",
       "    }\n",
       "</style>\n",
       "<table border=\"1\" class=\"dataframe\">\n",
       "  <thead>\n",
       "    <tr style=\"text-align: right;\">\n",
       "      <th></th>\n",
       "      <th>Date</th>\n",
       "      <th>Rental_location_number</th>\n",
       "      <th>Name_of_the_rental_location</th>\n",
       "      <th>Time</th>\n",
       "      <th>Num_of_available bikes</th>\n",
       "    </tr>\n",
       "  </thead>\n",
       "  <tbody>\n",
       "    <tr>\n",
       "      <th>0</th>\n",
       "      <td>2023-11-01</td>\n",
       "      <td>103</td>\n",
       "      <td>103. 망원역 2번출구 앞</td>\n",
       "      <td>0</td>\n",
       "      <td>21</td>\n",
       "    </tr>\n",
       "    <tr>\n",
       "      <th>1</th>\n",
       "      <td>2023-11-01</td>\n",
       "      <td>104</td>\n",
       "      <td>104. 합정역 1번출구 앞</td>\n",
       "      <td>0</td>\n",
       "      <td>0</td>\n",
       "    </tr>\n",
       "    <tr>\n",
       "      <th>2</th>\n",
       "      <td>2023-11-01</td>\n",
       "      <td>105</td>\n",
       "      <td>105. 합정역 5번출구 앞</td>\n",
       "      <td>0</td>\n",
       "      <td>0</td>\n",
       "    </tr>\n",
       "    <tr>\n",
       "      <th>3</th>\n",
       "      <td>2023-11-01</td>\n",
       "      <td>106</td>\n",
       "      <td>106. 합정역 7번출구 앞</td>\n",
       "      <td>0</td>\n",
       "      <td>1</td>\n",
       "    </tr>\n",
       "    <tr>\n",
       "      <th>4</th>\n",
       "      <td>2023-11-01</td>\n",
       "      <td>107</td>\n",
       "      <td>107. 신한은행 서교동지점</td>\n",
       "      <td>0</td>\n",
       "      <td>7</td>\n",
       "    </tr>\n",
       "    <tr>\n",
       "      <th>...</th>\n",
       "      <td>...</td>\n",
       "      <td>...</td>\n",
       "      <td>...</td>\n",
       "      <td>...</td>\n",
       "      <td>...</td>\n",
       "    </tr>\n",
       "    <tr>\n",
       "      <th>11720851</th>\n",
       "      <td>2023-11-30</td>\n",
       "      <td>5871</td>\n",
       "      <td>5871. 건영상가 앞</td>\n",
       "      <td>23</td>\n",
       "      <td>17</td>\n",
       "    </tr>\n",
       "    <tr>\n",
       "      <th>11720852</th>\n",
       "      <td>2023-11-30</td>\n",
       "      <td>6053</td>\n",
       "      <td>6053. 중부세무서 앞</td>\n",
       "      <td>23</td>\n",
       "      <td>1</td>\n",
       "    </tr>\n",
       "    <tr>\n",
       "      <th>11720853</th>\n",
       "      <td>2023-11-30</td>\n",
       "      <td>6054</td>\n",
       "      <td>6054.청구e편한세상아파트 113동 앞</td>\n",
       "      <td>23</td>\n",
       "      <td>12</td>\n",
       "    </tr>\n",
       "    <tr>\n",
       "      <th>11720854</th>\n",
       "      <td>2023-11-30</td>\n",
       "      <td>6055</td>\n",
       "      <td>6055. 한국경제</td>\n",
       "      <td>23</td>\n",
       "      <td>12</td>\n",
       "    </tr>\n",
       "    <tr>\n",
       "      <th>11720855</th>\n",
       "      <td>2023-11-30</td>\n",
       "      <td>6171</td>\n",
       "      <td>6171. 월드빌딩 앞</td>\n",
       "      <td>23</td>\n",
       "      <td>12</td>\n",
       "    </tr>\n",
       "  </tbody>\n",
       "</table>\n",
       "<p>11720856 rows × 5 columns</p>\n",
       "</div>"
      ],
      "text/plain": [
       "                Date  Rental_location_number Name_of_the_rental_location  \\\n",
       "0         2023-11-01                     103             103. 망원역 2번출구 앞   \n",
       "1         2023-11-01                     104             104. 합정역 1번출구 앞   \n",
       "2         2023-11-01                     105             105. 합정역 5번출구 앞   \n",
       "3         2023-11-01                     106             106. 합정역 7번출구 앞   \n",
       "4         2023-11-01                     107             107. 신한은행 서교동지점   \n",
       "...              ...                     ...                         ...   \n",
       "11720851  2023-11-30                    5871                5871. 건영상가 앞   \n",
       "11720852  2023-11-30                    6053               6053. 중부세무서 앞   \n",
       "11720853  2023-11-30                    6054      6054.청구e편한세상아파트 113동 앞   \n",
       "11720854  2023-11-30                    6055                  6055. 한국경제   \n",
       "11720855  2023-11-30                    6171                6171. 월드빌딩 앞   \n",
       "\n",
       "          Time  Num_of_available bikes  \n",
       "0            0                      21  \n",
       "1            0                       0  \n",
       "2            0                       0  \n",
       "3            0                       1  \n",
       "4            0                       7  \n",
       "...        ...                     ...  \n",
       "11720851    23                      17  \n",
       "11720852    23                       1  \n",
       "11720853    23                      12  \n",
       "11720854    23                      12  \n",
       "11720855    23                      12  \n",
       "\n",
       "[11720856 rows x 5 columns]"
      ]
     },
     "execution_count": 40,
     "metadata": {},
     "output_type": "execute_result"
    }
   ],
   "source": [
    "check"
   ]
  },
  {
   "cell_type": "code",
   "execution_count": 41,
   "id": "14c92a6e-52f2-41d2-9a5c-2a4d0953430f",
   "metadata": {
    "scrolled": true
   },
   "outputs": [
    {
     "data": {
      "text/plain": [
       "Date                           0\n",
       "Rental_location_number         0\n",
       "Name_of_the_rental_location    0\n",
       "Time                           0\n",
       "Num_of_available bikes         0\n",
       "dtype: int64"
      ]
     },
     "execution_count": 41,
     "metadata": {},
     "output_type": "execute_result"
    }
   ],
   "source": [
    "check.isnull().sum()"
   ]
  },
  {
   "cell_type": "markdown",
   "id": "1c90162a-fef6-41fe-b77a-874c681ad6a0",
   "metadata": {
    "jp-MarkdownHeadingCollapsed": true
   },
   "source": [
    "### 대여이력정보 빅쿼리 업로드 전 컬럼통일_22_23_24 전처리"
   ]
  },
  {
   "cell_type": "code",
   "execution_count": 1,
   "id": "9bf71d6c-7d29-438b-a94f-a753fc9d490a",
   "metadata": {},
   "outputs": [],
   "source": [
    "import pandas as pd\n",
    "df_23 = pd.read_csv('./data/raw_data/서울특별시 공공자전거 대여이력 정보_2402.csv',encoding ='cp949')"
   ]
  },
  {
   "cell_type": "code",
   "execution_count": 2,
   "id": "ec153fa9-9a4a-4301-8100-c6ba73990f2f",
   "metadata": {},
   "outputs": [
    {
     "name": "stdout",
     "output_type": "stream",
     "text": [
      "Index(['자전거번호', '대여일시', '대여 대여소번호', '대여 대여소명', '대여거치대', '반납일시', '반납대여소번호',\n",
      "       '반납대여소명', '반납거치대', '이용시간(분)', '이용거리(M)', '생년', '성별', '이용자종류', '대여대여소ID',\n",
      "       '반납대여소ID', '자전거구분'],\n",
      "      dtype='object')\n"
     ]
    }
   ],
   "source": [
    "print(df_23.columns)"
   ]
  },
  {
   "cell_type": "code",
   "execution_count": 6,
   "id": "a606be55-4d42-42a7-9487-29aa71ea9e86",
   "metadata": {},
   "outputs": [],
   "source": [
    "import pandas as pd\n",
    "\n",
    "df = pd.read_csv('./data/preprocessed_data/Rental_usage_history_2403.csv')"
   ]
  },
  {
   "cell_type": "code",
   "execution_count": 7,
   "id": "7f2f3726-bd90-435d-b7f0-1d37fd5a1567",
   "metadata": {},
   "outputs": [
    {
     "data": {
      "text/html": [
       "<div>\n",
       "<style scoped>\n",
       "    .dataframe tbody tr th:only-of-type {\n",
       "        vertical-align: middle;\n",
       "    }\n",
       "\n",
       "    .dataframe tbody tr th {\n",
       "        vertical-align: top;\n",
       "    }\n",
       "\n",
       "    .dataframe thead th {\n",
       "        text-align: right;\n",
       "    }\n",
       "</style>\n",
       "<table border=\"1\" class=\"dataframe\">\n",
       "  <thead>\n",
       "    <tr style=\"text-align: right;\">\n",
       "      <th></th>\n",
       "      <th>Bike_number</th>\n",
       "      <th>Date_and_time_of_rental</th>\n",
       "      <th>Rental_location_number</th>\n",
       "      <th>Name_of_the_rental_location</th>\n",
       "      <th>Rental_rack</th>\n",
       "      <th>Return_date</th>\n",
       "      <th>Return_rack_number</th>\n",
       "      <th>Return_Location_Name</th>\n",
       "      <th>Return_Location</th>\n",
       "      <th>Usage_Time_min</th>\n",
       "      <th>Usage_Distance_m</th>\n",
       "      <th>Date_of_Birth</th>\n",
       "      <th>Gender</th>\n",
       "      <th>User_Type</th>\n",
       "      <th>Rental_Location_ID</th>\n",
       "      <th>Return_Location_ID</th>\n",
       "    </tr>\n",
       "  </thead>\n",
       "  <tbody>\n",
       "    <tr>\n",
       "      <th>0</th>\n",
       "      <td>SPB-35157</td>\n",
       "      <td>2024-03-01 00:00:02</td>\n",
       "      <td>3421</td>\n",
       "      <td>혜화역 1번출구</td>\n",
       "      <td>0</td>\n",
       "      <td>2024-03-01 00:02:03</td>\n",
       "      <td>00340</td>\n",
       "      <td>혜화동 로터리</td>\n",
       "      <td>0</td>\n",
       "      <td>2</td>\n",
       "      <td>253.07</td>\n",
       "      <td>1997</td>\n",
       "      <td>M</td>\n",
       "      <td>내국인</td>\n",
       "      <td>ST-1818</td>\n",
       "      <td>ST-156</td>\n",
       "    </tr>\n",
       "    <tr>\n",
       "      <th>1</th>\n",
       "      <td>SPB-48978</td>\n",
       "      <td>2024-03-01 00:01:32</td>\n",
       "      <td>1149</td>\n",
       "      <td>신방화역환승주차장</td>\n",
       "      <td>0</td>\n",
       "      <td>2024-03-01 00:03:17</td>\n",
       "      <td>01163</td>\n",
       "      <td>방화동강서기동대앞</td>\n",
       "      <td>0</td>\n",
       "      <td>1</td>\n",
       "      <td>400.00</td>\n",
       "      <td>1993</td>\n",
       "      <td>M</td>\n",
       "      <td>내국인</td>\n",
       "      <td>ST-975</td>\n",
       "      <td>ST-1254</td>\n",
       "    </tr>\n",
       "    <tr>\n",
       "      <th>2</th>\n",
       "      <td>SPB-65641</td>\n",
       "      <td>2024-03-01 00:02:22</td>\n",
       "      <td>4028</td>\n",
       "      <td>한일유앤아이아파트 105동 인근</td>\n",
       "      <td>0</td>\n",
       "      <td>2024-03-01 00:03:53</td>\n",
       "      <td>01666</td>\n",
       "      <td>노원소방서인근</td>\n",
       "      <td>0</td>\n",
       "      <td>1</td>\n",
       "      <td>230.00</td>\n",
       "      <td>2007</td>\n",
       "      <td>M</td>\n",
       "      <td>내국인</td>\n",
       "      <td>ST-2717</td>\n",
       "      <td>ST-1283</td>\n",
       "    </tr>\n",
       "    <tr>\n",
       "      <th>3</th>\n",
       "      <td>SPB-52550</td>\n",
       "      <td>2024-03-01 00:00:03</td>\n",
       "      <td>903</td>\n",
       "      <td>은평뉴타운 아이파크</td>\n",
       "      <td>0</td>\n",
       "      <td>2024-03-01 00:03:58</td>\n",
       "      <td>00904</td>\n",
       "      <td>은평뉴타운 푸르지오</td>\n",
       "      <td>0</td>\n",
       "      <td>3</td>\n",
       "      <td>390.00</td>\n",
       "      <td>2004</td>\n",
       "      <td>M</td>\n",
       "      <td>내국인</td>\n",
       "      <td>ST-451</td>\n",
       "      <td>ST-452</td>\n",
       "    </tr>\n",
       "    <tr>\n",
       "      <th>4</th>\n",
       "      <td>SPB-39705</td>\n",
       "      <td>2024-03-01 00:00:11</td>\n",
       "      <td>1124</td>\n",
       "      <td>발산역 6번 출구 뒤</td>\n",
       "      <td>0</td>\n",
       "      <td>2024-03-01 00:04:23</td>\n",
       "      <td>01117</td>\n",
       "      <td>등촌5단지아파트 버스정류장</td>\n",
       "      <td>0</td>\n",
       "      <td>4</td>\n",
       "      <td>463.16</td>\n",
       "      <td>1983</td>\n",
       "      <td>M</td>\n",
       "      <td>내국인</td>\n",
       "      <td>ST-522</td>\n",
       "      <td>ST-834</td>\n",
       "    </tr>\n",
       "  </tbody>\n",
       "</table>\n",
       "</div>"
      ],
      "text/plain": [
       "  Bike_number Date_and_time_of_rental  Rental_location_number  \\\n",
       "0   SPB-35157     2024-03-01 00:00:02                    3421   \n",
       "1   SPB-48978     2024-03-01 00:01:32                    1149   \n",
       "2   SPB-65641     2024-03-01 00:02:22                    4028   \n",
       "3   SPB-52550     2024-03-01 00:00:03                     903   \n",
       "4   SPB-39705     2024-03-01 00:00:11                    1124   \n",
       "\n",
       "  Name_of_the_rental_location  Rental_rack          Return_date  \\\n",
       "0                    혜화역 1번출구            0  2024-03-01 00:02:03   \n",
       "1                   신방화역환승주차장            0  2024-03-01 00:03:17   \n",
       "2           한일유앤아이아파트 105동 인근            0  2024-03-01 00:03:53   \n",
       "3                  은평뉴타운 아이파크            0  2024-03-01 00:03:58   \n",
       "4                 발산역 6번 출구 뒤            0  2024-03-01 00:04:23   \n",
       "\n",
       "  Return_rack_number Return_Location_Name Return_Location  Usage_Time_min  \\\n",
       "0              00340              혜화동 로터리               0               2   \n",
       "1              01163            방화동강서기동대앞               0               1   \n",
       "2              01666              노원소방서인근               0               1   \n",
       "3              00904           은평뉴타운 푸르지오               0               3   \n",
       "4              01117       등촌5단지아파트 버스정류장               0               4   \n",
       "\n",
       "   Usage_Distance_m Date_of_Birth Gender User_Type Rental_Location_ID  \\\n",
       "0            253.07          1997      M       내국인            ST-1818   \n",
       "1            400.00          1993      M       내국인             ST-975   \n",
       "2            230.00          2007      M       내국인            ST-2717   \n",
       "3            390.00          2004      M       내국인             ST-451   \n",
       "4            463.16          1983      M       내국인             ST-522   \n",
       "\n",
       "  Return_Location_ID  \n",
       "0             ST-156  \n",
       "1            ST-1254  \n",
       "2            ST-1283  \n",
       "3             ST-452  \n",
       "4             ST-834  "
      ]
     },
     "execution_count": 7,
     "metadata": {},
     "output_type": "execute_result"
    }
   ],
   "source": [
    "df.head()"
   ]
  },
  {
   "cell_type": "code",
   "execution_count": 8,
   "id": "bddc1b05-dbc2-4eca-93a9-232fa748d670",
   "metadata": {},
   "outputs": [
    {
     "data": {
      "text/plain": [
       "Index(['Bike_number', 'Date_and_time_of_rental', 'Rental_location_number',\n",
       "       'Name_of_the_rental_location', 'Rental_rack', 'Return_date',\n",
       "       'Return_rack_number', 'Return_Location_Name', 'Return_Location',\n",
       "       'Usage_Time_min', 'Usage_Distance_m', 'Date_of_Birth', 'Gender',\n",
       "       'User_Type', 'Rental_Location_ID', 'Return_Location_ID'],\n",
       "      dtype='object')"
      ]
     },
     "execution_count": 8,
     "metadata": {},
     "output_type": "execute_result"
    }
   ],
   "source": [
    "df.columns"
   ]
  },
  {
   "cell_type": "code",
   "execution_count": 29,
   "id": "63b7718e-c475-481a-8274-a7994ea36f5d",
   "metadata": {
    "scrolled": true
   },
   "outputs": [
    {
     "name": "stdout",
     "output_type": "stream",
     "text": [
      "Index(['자전거번호', '대여일시', '대여 대여소번호', '대여 대여소명', '대여거치대', '반납일시', '반납대여소번호',\n",
      "       '반납대여소명', '반납거치대', '이용시간(분)', '이용거리(M)', '생년', '성별', '이용자종류', '대여대여소ID',\n",
      "       '반납대여소ID', '자전거구분'],\n",
      "      dtype='object')\n"
     ]
    }
   ],
   "source": [
    "print(df_23.columns)"
   ]
  },
  {
   "cell_type": "code",
   "execution_count": 3,
   "id": "41840669-48d7-4001-a0a9-ae2ea65e1982",
   "metadata": {},
   "outputs": [],
   "source": [
    "df_23.columns = ['Bike_number',\n",
    "'Date_and_time_of_rental',\n",
    "'Rental_location_number',\n",
    "'Name_of_the_rental_location',\n",
    "'Rental_rack',\n",
    "'Return_date',\n",
    "'Return_rack_number',\n",
    "'Return_Location_Name',\n",
    "'Return_Location',\n",
    "'Usage_Time_min',\n",
    "'Usage_Distance_m',\n",
    "'Date_of_Birth',\n",
    "'Gender',\n",
    "'User_Type',\n",
    "'Rental_Location_ID',\n",
    "'Return_Location_ID',\n",
    "'delete']"
   ]
  },
  {
   "cell_type": "code",
   "execution_count": 4,
   "id": "c8729e5e-1d66-4da8-b2db-2962f2fdb20b",
   "metadata": {},
   "outputs": [],
   "source": [
    "df_23 = df_23.drop(columns='delete')"
   ]
  },
  {
   "cell_type": "code",
   "execution_count": 5,
   "id": "d04e2ba1-4ec0-4cc3-8df6-1e55f2e56088",
   "metadata": {},
   "outputs": [
    {
     "data": {
      "text/plain": [
       "Index(['Bike_number', 'Date_and_time_of_rental', 'Rental_location_number',\n",
       "       'Name_of_the_rental_location', 'Rental_rack', 'Return_date',\n",
       "       'Return_rack_number', 'Return_Location_Name', 'Return_Location',\n",
       "       'Usage_Time_min', 'Usage_Distance_m', 'Date_of_Birth', 'Gender',\n",
       "       'User_Type', 'Rental_Location_ID', 'Return_Location_ID'],\n",
       "      dtype='object')"
      ]
     },
     "execution_count": 5,
     "metadata": {},
     "output_type": "execute_result"
    }
   ],
   "source": [
    "df_23.columns"
   ]
  },
  {
   "cell_type": "code",
   "execution_count": 6,
   "id": "eb829c65-0184-42a7-9d46-cbda55defd08",
   "metadata": {},
   "outputs": [],
   "source": [
    "df_23.to_csv('./data/preprocessed_data/Rental_usage_history_2402.csv', encoding='utf-8', index=False)"
   ]
  },
  {
   "cell_type": "code",
   "execution_count": 7,
   "id": "912bb635-fa4b-489e-94c0-d28bbece5b32",
   "metadata": {},
   "outputs": [],
   "source": [
    "check = pd.read_csv('./data/preprocessed_data/Rental_usage_history_2402.csv')"
   ]
  },
  {
   "cell_type": "code",
   "execution_count": 8,
   "id": "5c3cb5db-82c5-4d3b-8290-d7c2db19a01f",
   "metadata": {},
   "outputs": [
    {
     "data": {
      "text/html": [
       "<div>\n",
       "<style scoped>\n",
       "    .dataframe tbody tr th:only-of-type {\n",
       "        vertical-align: middle;\n",
       "    }\n",
       "\n",
       "    .dataframe tbody tr th {\n",
       "        vertical-align: top;\n",
       "    }\n",
       "\n",
       "    .dataframe thead th {\n",
       "        text-align: right;\n",
       "    }\n",
       "</style>\n",
       "<table border=\"1\" class=\"dataframe\">\n",
       "  <thead>\n",
       "    <tr style=\"text-align: right;\">\n",
       "      <th></th>\n",
       "      <th>Bike_number</th>\n",
       "      <th>Date_and_time_of_rental</th>\n",
       "      <th>Rental_location_number</th>\n",
       "      <th>Name_of_the_rental_location</th>\n",
       "      <th>Rental_rack</th>\n",
       "      <th>Return_date</th>\n",
       "      <th>Return_rack_number</th>\n",
       "      <th>Return_Location_Name</th>\n",
       "      <th>Return_Location</th>\n",
       "      <th>Usage_Time_min</th>\n",
       "      <th>Usage_Distance_m</th>\n",
       "      <th>Date_of_Birth</th>\n",
       "      <th>Gender</th>\n",
       "      <th>User_Type</th>\n",
       "      <th>Rental_Location_ID</th>\n",
       "      <th>Return_Location_ID</th>\n",
       "    </tr>\n",
       "  </thead>\n",
       "  <tbody>\n",
       "    <tr>\n",
       "      <th>0</th>\n",
       "      <td>SPB-68424</td>\n",
       "      <td>2024-02-01 00:00:27</td>\n",
       "      <td>711</td>\n",
       "      <td>신일해피트리아파트 앞</td>\n",
       "      <td>0</td>\n",
       "      <td>2024-02-01 00:02:52</td>\n",
       "      <td>04518</td>\n",
       "      <td>청기와빌딩</td>\n",
       "      <td>0</td>\n",
       "      <td>2</td>\n",
       "      <td>0.00</td>\n",
       "      <td>1986</td>\n",
       "      <td>NaN</td>\n",
       "      <td>내국인</td>\n",
       "      <td>ST-318</td>\n",
       "      <td>ST-2768</td>\n",
       "    </tr>\n",
       "    <tr>\n",
       "      <th>1</th>\n",
       "      <td>SPB-56565</td>\n",
       "      <td>2024-02-01 00:02:13</td>\n",
       "      <td>4387</td>\n",
       "      <td>성수역 1번출구 주변</td>\n",
       "      <td>0</td>\n",
       "      <td>2024-02-01 00:03:27</td>\n",
       "      <td>04353</td>\n",
       "      <td>코오롱디지털타워 3차앞</td>\n",
       "      <td>0</td>\n",
       "      <td>1</td>\n",
       "      <td>290.00</td>\n",
       "      <td>1995</td>\n",
       "      <td>M</td>\n",
       "      <td>내국인</td>\n",
       "      <td>ST-3121</td>\n",
       "      <td>ST-2466</td>\n",
       "    </tr>\n",
       "    <tr>\n",
       "      <th>2</th>\n",
       "      <td>SPB-67794</td>\n",
       "      <td>2024-02-01 00:00:58</td>\n",
       "      <td>1022</td>\n",
       "      <td>길동 사거리(초소앞)</td>\n",
       "      <td>0</td>\n",
       "      <td>2024-02-01 00:03:30</td>\n",
       "      <td>03671</td>\n",
       "      <td>둔촌동역교차로</td>\n",
       "      <td>0</td>\n",
       "      <td>2</td>\n",
       "      <td>0.00</td>\n",
       "      <td>1960</td>\n",
       "      <td>M</td>\n",
       "      <td>내국인</td>\n",
       "      <td>ST-505</td>\n",
       "      <td>ST-2742</td>\n",
       "    </tr>\n",
       "    <tr>\n",
       "      <th>3</th>\n",
       "      <td>SPB-67045</td>\n",
       "      <td>2024-02-01 00:01:21</td>\n",
       "      <td>2228</td>\n",
       "      <td>뒷벌공원 옆</td>\n",
       "      <td>0</td>\n",
       "      <td>2024-02-01 00:03:48</td>\n",
       "      <td>02531</td>\n",
       "      <td>멤피스아파트 앞</td>\n",
       "      <td>0</td>\n",
       "      <td>2</td>\n",
       "      <td>700.00</td>\n",
       "      <td>1970</td>\n",
       "      <td>NaN</td>\n",
       "      <td>내국인</td>\n",
       "      <td>ST-758</td>\n",
       "      <td>ST-1916</td>\n",
       "    </tr>\n",
       "    <tr>\n",
       "      <th>4</th>\n",
       "      <td>SPB-30303</td>\n",
       "      <td>2024-02-01 00:00:54</td>\n",
       "      <td>3780</td>\n",
       "      <td>등촌서광아파트</td>\n",
       "      <td>0</td>\n",
       "      <td>2024-02-01 00:03:48</td>\n",
       "      <td>01172</td>\n",
       "      <td>가양3동 주민센터</td>\n",
       "      <td>0</td>\n",
       "      <td>2</td>\n",
       "      <td>492.22</td>\n",
       "      <td>1966</td>\n",
       "      <td>M</td>\n",
       "      <td>내국인</td>\n",
       "      <td>ST-2487</td>\n",
       "      <td>ST-1509</td>\n",
       "    </tr>\n",
       "  </tbody>\n",
       "</table>\n",
       "</div>"
      ],
      "text/plain": [
       "  Bike_number Date_and_time_of_rental  Rental_location_number  \\\n",
       "0   SPB-68424     2024-02-01 00:00:27                     711   \n",
       "1   SPB-56565     2024-02-01 00:02:13                    4387   \n",
       "2   SPB-67794     2024-02-01 00:00:58                    1022   \n",
       "3   SPB-67045     2024-02-01 00:01:21                    2228   \n",
       "4   SPB-30303     2024-02-01 00:00:54                    3780   \n",
       "\n",
       "  Name_of_the_rental_location  Rental_rack          Return_date  \\\n",
       "0                 신일해피트리아파트 앞            0  2024-02-01 00:02:52   \n",
       "1                 성수역 1번출구 주변            0  2024-02-01 00:03:27   \n",
       "2                 길동 사거리(초소앞)            0  2024-02-01 00:03:30   \n",
       "3                      뒷벌공원 옆            0  2024-02-01 00:03:48   \n",
       "4                     등촌서광아파트            0  2024-02-01 00:03:48   \n",
       "\n",
       "  Return_rack_number Return_Location_Name Return_Location  Usage_Time_min  \\\n",
       "0              04518                청기와빌딩               0               2   \n",
       "1              04353         코오롱디지털타워 3차앞               0               1   \n",
       "2              03671              둔촌동역교차로               0               2   \n",
       "3              02531             멤피스아파트 앞               0               2   \n",
       "4              01172            가양3동 주민센터               0               2   \n",
       "\n",
       "   Usage_Distance_m Date_of_Birth Gender User_Type Rental_Location_ID  \\\n",
       "0              0.00          1986    NaN       내국인             ST-318   \n",
       "1            290.00          1995      M       내국인            ST-3121   \n",
       "2              0.00          1960      M       내국인             ST-505   \n",
       "3            700.00          1970    NaN       내국인             ST-758   \n",
       "4            492.22          1966      M       내국인            ST-2487   \n",
       "\n",
       "  Return_Location_ID  \n",
       "0            ST-2768  \n",
       "1            ST-2466  \n",
       "2            ST-2742  \n",
       "3            ST-1916  \n",
       "4            ST-1509  "
      ]
     },
     "execution_count": 8,
     "metadata": {},
     "output_type": "execute_result"
    }
   ],
   "source": [
    "check.head()"
   ]
  },
  {
   "cell_type": "code",
   "execution_count": 26,
   "id": "6039630b-5a6f-4f46-867f-0c5f376e0831",
   "metadata": {},
   "outputs": [
    {
     "data": {
      "text/plain": [
       "Bike_number                         0\n",
       "Date_and_time_of_rental             0\n",
       "Rental_location_number              0\n",
       "Name_of_the_rental_location         0\n",
       "Rental_rack                         0\n",
       "Return_date                         0\n",
       "Return_rack_number                  0\n",
       "Return_Location_Name                0\n",
       "Return_Location                     0\n",
       "Usage_Time_min                      0\n",
       "Usage_Distance_m                    0\n",
       "Date_of_Birth                       0\n",
       "Gender                         133467\n",
       "User_Type                           0\n",
       "Rental_Location_ID                  0\n",
       "Return_Location_ID                  0\n",
       "dtype: int64"
      ]
     },
     "execution_count": 26,
     "metadata": {},
     "output_type": "execute_result"
    }
   ],
   "source": [
    "check.isnull().sum()"
   ]
  },
  {
   "cell_type": "code",
   "execution_count": 152,
   "id": "cf06aff5-6b64-4c50-a62f-15cce87cd1a6",
   "metadata": {},
   "outputs": [],
   "source": [
    "df_7 = pd.read_csv('./data/preprocessed_data/Rental_usage_history_2212.csv')"
   ]
  },
  {
   "cell_type": "code",
   "execution_count": 153,
   "id": "c1346d47-31a0-47cf-a7b0-2ba1121ab1c9",
   "metadata": {
    "scrolled": true
   },
   "outputs": [
    {
     "data": {
      "text/html": [
       "<div>\n",
       "<style scoped>\n",
       "    .dataframe tbody tr th:only-of-type {\n",
       "        vertical-align: middle;\n",
       "    }\n",
       "\n",
       "    .dataframe tbody tr th {\n",
       "        vertical-align: top;\n",
       "    }\n",
       "\n",
       "    .dataframe thead th {\n",
       "        text-align: right;\n",
       "    }\n",
       "</style>\n",
       "<table border=\"1\" class=\"dataframe\">\n",
       "  <thead>\n",
       "    <tr style=\"text-align: right;\">\n",
       "      <th></th>\n",
       "      <th>Bike_number</th>\n",
       "      <th>Date_and_time_of_rental</th>\n",
       "      <th>Rental_location_number</th>\n",
       "      <th>Name_of_the_rental_location</th>\n",
       "      <th>Rental_rack</th>\n",
       "      <th>Return_date</th>\n",
       "      <th>Return_rack_number</th>\n",
       "      <th>Return_Location_Name</th>\n",
       "      <th>Return_Location</th>\n",
       "      <th>Usage_Time_min</th>\n",
       "      <th>Usage_Distance_m</th>\n",
       "      <th>Date_of_Birth</th>\n",
       "      <th>Gender</th>\n",
       "      <th>User_Type</th>\n",
       "      <th>Rental_Location_ID</th>\n",
       "      <th>Return_Location_ID</th>\n",
       "    </tr>\n",
       "  </thead>\n",
       "  <tbody>\n",
       "    <tr>\n",
       "      <th>0</th>\n",
       "      <td>SPB-44695</td>\n",
       "      <td>2022-12-01 00:00:10</td>\n",
       "      <td>1933</td>\n",
       "      <td>개봉푸르지오아파트 상가</td>\n",
       "      <td>0</td>\n",
       "      <td>2022-12-01 00:00:20</td>\n",
       "      <td>01933</td>\n",
       "      <td>개봉푸르지오아파트 상가</td>\n",
       "      <td>0</td>\n",
       "      <td>0</td>\n",
       "      <td>0.00</td>\n",
       "      <td>\\N</td>\n",
       "      <td>M</td>\n",
       "      <td>내국인</td>\n",
       "      <td>ST-678</td>\n",
       "      <td>ST-678</td>\n",
       "    </tr>\n",
       "    <tr>\n",
       "      <th>1</th>\n",
       "      <td>SPB-31562</td>\n",
       "      <td>2022-12-01 00:00:04</td>\n",
       "      <td>3007</td>\n",
       "      <td>MBC 앞</td>\n",
       "      <td>0</td>\n",
       "      <td>2022-12-01 00:00:26</td>\n",
       "      <td>03007</td>\n",
       "      <td>MBC 앞</td>\n",
       "      <td>0</td>\n",
       "      <td>0</td>\n",
       "      <td>111.20</td>\n",
       "      <td>1995</td>\n",
       "      <td>F</td>\n",
       "      <td>내국인</td>\n",
       "      <td>ST-2165</td>\n",
       "      <td>ST-2165</td>\n",
       "    </tr>\n",
       "    <tr>\n",
       "      <th>2</th>\n",
       "      <td>SPB-56324</td>\n",
       "      <td>2022-12-01 00:01:33</td>\n",
       "      <td>4468</td>\n",
       "      <td>가락1동주민센터</td>\n",
       "      <td>0</td>\n",
       "      <td>2022-12-01 00:01:58</td>\n",
       "      <td>04468</td>\n",
       "      <td>가락1동주민센터</td>\n",
       "      <td>0</td>\n",
       "      <td>0</td>\n",
       "      <td>0.00</td>\n",
       "      <td>1994</td>\n",
       "      <td>M</td>\n",
       "      <td>내국인</td>\n",
       "      <td>ST-2583</td>\n",
       "      <td>ST-2583</td>\n",
       "    </tr>\n",
       "    <tr>\n",
       "      <th>3</th>\n",
       "      <td>SPB-30175</td>\n",
       "      <td>2022-12-01 00:03:02</td>\n",
       "      <td>652</td>\n",
       "      <td>답십리 래미안엘파인아파트 입구</td>\n",
       "      <td>0</td>\n",
       "      <td>2022-12-01 00:03:30</td>\n",
       "      <td>00652</td>\n",
       "      <td>답십리 래미안엘파인아파트 입구</td>\n",
       "      <td>0</td>\n",
       "      <td>0</td>\n",
       "      <td>0.00</td>\n",
       "      <td>1981</td>\n",
       "      <td>M</td>\n",
       "      <td>내국인</td>\n",
       "      <td>ST-1447</td>\n",
       "      <td>ST-1447</td>\n",
       "    </tr>\n",
       "    <tr>\n",
       "      <th>4</th>\n",
       "      <td>SPB-37639</td>\n",
       "      <td>2022-12-01 00:00:18</td>\n",
       "      <td>1047</td>\n",
       "      <td>강동 한신휴플러스</td>\n",
       "      <td>0</td>\n",
       "      <td>2022-12-01 00:03:55</td>\n",
       "      <td>01075</td>\n",
       "      <td>천동초교 삼거리</td>\n",
       "      <td>0</td>\n",
       "      <td>3</td>\n",
       "      <td>492.34</td>\n",
       "      <td>1989</td>\n",
       "      <td>M</td>\n",
       "      <td>내국인</td>\n",
       "      <td>ST-1369</td>\n",
       "      <td>ST-1836</td>\n",
       "    </tr>\n",
       "  </tbody>\n",
       "</table>\n",
       "</div>"
      ],
      "text/plain": [
       "  Bike_number Date_and_time_of_rental  Rental_location_number  \\\n",
       "0   SPB-44695     2022-12-01 00:00:10                    1933   \n",
       "1   SPB-31562     2022-12-01 00:00:04                    3007   \n",
       "2   SPB-56324     2022-12-01 00:01:33                    4468   \n",
       "3   SPB-30175     2022-12-01 00:03:02                     652   \n",
       "4   SPB-37639     2022-12-01 00:00:18                    1047   \n",
       "\n",
       "  Name_of_the_rental_location  Rental_rack          Return_date  \\\n",
       "0                개봉푸르지오아파트 상가            0  2022-12-01 00:00:20   \n",
       "1                       MBC 앞            0  2022-12-01 00:00:26   \n",
       "2                    가락1동주민센터            0  2022-12-01 00:01:58   \n",
       "3            답십리 래미안엘파인아파트 입구            0  2022-12-01 00:03:30   \n",
       "4                   강동 한신휴플러스            0  2022-12-01 00:03:55   \n",
       "\n",
       "  Return_rack_number Return_Location_Name Return_Location  Usage_Time_min  \\\n",
       "0              01933         개봉푸르지오아파트 상가               0               0   \n",
       "1              03007                MBC 앞               0               0   \n",
       "2              04468             가락1동주민센터               0               0   \n",
       "3              00652     답십리 래미안엘파인아파트 입구               0               0   \n",
       "4              01075             천동초교 삼거리               0               3   \n",
       "\n",
       "   Usage_Distance_m Date_of_Birth Gender User_Type Rental_Location_ID  \\\n",
       "0              0.00            \\N      M       내국인             ST-678   \n",
       "1            111.20          1995      F       내국인            ST-2165   \n",
       "2              0.00          1994      M       내국인            ST-2583   \n",
       "3              0.00          1981      M       내국인            ST-1447   \n",
       "4            492.34          1989      M       내국인            ST-1369   \n",
       "\n",
       "  Return_Location_ID  \n",
       "0             ST-678  \n",
       "1            ST-2165  \n",
       "2            ST-2583  \n",
       "3            ST-1447  \n",
       "4            ST-1836  "
      ]
     },
     "execution_count": 153,
     "metadata": {},
     "output_type": "execute_result"
    }
   ],
   "source": [
    "df_7.head()"
   ]
  },
  {
   "cell_type": "markdown",
   "id": "5c9d69d6-cb87-479d-9632-df14d8b7ab53",
   "metadata": {
    "jp-MarkdownHeadingCollapsed": true
   },
   "source": [
    "### 1차 대여소정보 주소 전처리"
   ]
  },
  {
   "cell_type": "code",
   "execution_count": 1,
   "id": "677b2c25-de8b-41a7-b57a-bd2e27d435c7",
   "metadata": {},
   "outputs": [],
   "source": [
    "import pandas as pd\n",
    "\n",
    "df = pd.read_csv('./data/raw_data/Rental_Location_ID_master_la_lo.csv')"
   ]
  },
  {
   "cell_type": "code",
   "execution_count": 2,
   "id": "addc5afc-09ee-4d68-83fe-d0f822b08e8c",
   "metadata": {},
   "outputs": [
    {
     "name": "stdout",
     "output_type": "stream",
     "text": [
      "Index(['Rental_Location_ID', 'Address_1', 'Address_2', 'Latitude',\n",
      "       'Longitude'],\n",
      "      dtype='object')\n"
     ]
    }
   ],
   "source": [
    "print(df.columns)"
   ]
  },
  {
   "cell_type": "code",
   "execution_count": 3,
   "id": "3a680ed0-8e3f-4b3e-a50e-3eeb892488a9",
   "metadata": {},
   "outputs": [],
   "source": [
    "df_geng = df[df['Address_1'].str.contains('강남구', na=False)]"
   ]
  },
  {
   "cell_type": "code",
   "execution_count": 40,
   "id": "6ab43b03-2c38-4f40-90d1-61c87601ebc3",
   "metadata": {},
   "outputs": [],
   "source": [
    "df.columns = ['Rental_Location_ID',\n",
    "              'Address_1',\n",
    "              'Address_2',\n",
    "              'Latitude',\n",
    "              'Longitude']"
   ]
  },
  {
   "cell_type": "code",
   "execution_count": 41,
   "id": "0a559c5e-b5b0-4c11-83e6-bdda8b9d4ce3",
   "metadata": {},
   "outputs": [],
   "source": [
    "df['Address_1'] = df['Address_1'].str.replace(r'\\s+', ' ', regex=True)"
   ]
  },
  {
   "cell_type": "code",
   "execution_count": 42,
   "id": "427318ec-a1f6-4440-a279-c1db79211a7f",
   "metadata": {},
   "outputs": [],
   "source": [
    "df['Address_1'] = df['Address_1'].str.replace('서울특별시 ', '', regex=False).str.replace('서울 ', '', regex=False)"
   ]
  },
  {
   "cell_type": "code",
   "execution_count": 6,
   "id": "cfc05137-b3d2-46b3-805b-e0790aaaa61a",
   "metadata": {},
   "outputs": [],
   "source": [
    "pd.set_option('display.max_rows', None)  # 모든 행 표시\n",
    "pd.set_option('display.max_columns', None)  # 모든 열 표시\n",
    "pd.set_option('display.expand_frame_repr', False)  # 열이 화면 너비를 초과할 때 데이터프레임을 줄 바꿈하지 않도록 설정"
   ]
  },
  {
   "cell_type": "code",
   "execution_count": 45,
   "id": "a2a3f57b-4451-482c-b28d-ee48ab60d89d",
   "metadata": {},
   "outputs": [],
   "source": [
    "df['Address_1'] = df['Address_1'].str.replace('경기 ', '경기도 ', regex=False)"
   ]
  },
  {
   "cell_type": "code",
   "execution_count": 50,
   "id": "ca8d47f8-7ee4-422a-b803-526de38f9f2c",
   "metadata": {},
   "outputs": [],
   "source": [
    "df_geng = df[df['Address_1'].str.contains('경기', na=False)]"
   ]
  },
  {
   "cell_type": "code",
   "execution_count": 83,
   "id": "45908172-4ff9-4413-a061-f50ea9823746",
   "metadata": {},
   "outputs": [],
   "source": [
    "df_latitude_zero = df[df['Latitude'] == 0.0]"
   ]
  },
  {
   "cell_type": "code",
   "execution_count": 73,
   "id": "fd44359e-c83d-42b3-a489-7dafccf48f04",
   "metadata": {},
   "outputs": [],
   "source": [
    "3177 = '경기도 성남시 수정구 ' + df_no_gu['Address_1']"
   ]
  },
  {
   "cell_type": "code",
   "execution_count": null,
   "id": "59bb7984-3655-4145-8484-b62531590c22",
   "metadata": {},
   "outputs": [],
   "source": [
    "df.loc[df['Address_1'].str.contains('진관동|불광동|응암동|증산동|갈현동|녹번동'), 'Address_1'] = '은평구 ' + df['Address_1']"
   ]
  },
  {
   "cell_type": "code",
   "execution_count": null,
   "id": "1812b31b-8364-4ca9-b932-178a73a5c8f0",
   "metadata": {},
   "outputs": [],
   "source": [
    "df.loc[df['Address_1'].str.contains('미아동|번동|수유동'), 'Address_1'] = '강북구 ' + df['Address_1']"
   ]
  },
  {
   "cell_type": "code",
   "execution_count": 48,
   "id": "50191904-2bd0-43bd-9c76-a201498b8edc",
   "metadata": {},
   "outputs": [],
   "source": [
    "df_no_gu = df[~df['Address_1'].str.contains('구', na=False)]"
   ]
  },
  {
   "cell_type": "code",
   "execution_count": 52,
   "id": "6c3bc1a7-face-4899-9e30-050c2142444c",
   "metadata": {},
   "outputs": [],
   "source": [
    "df_no_gu.loc[df_no_gu['Address_1'].str.contains('상암동'), 'Address_1'] = '마포구 ' + df_no_gu['Address_1']"
   ]
  },
  {
   "cell_type": "code",
   "execution_count": 54,
   "id": "47a4ac6c-8dd5-42ed-8fc0-7c36e984085f",
   "metadata": {},
   "outputs": [],
   "source": [
    "df_no_gu.loc[df_no_gu['Address_1'].str.contains('가산동|독산동'), 'Address_1'] = '금천구 ' + df_no_gu['Address_1']"
   ]
  },
  {
   "cell_type": "code",
   "execution_count": 57,
   "id": "812a8fc4-eb47-40d3-ac1b-3dfc21192a7a",
   "metadata": {},
   "outputs": [],
   "source": [
    "df_no_gu.loc[df_no_gu['Address_1'].str.contains('양재동|서초동|반포동|잠원동|신원동'), 'Address_1'] = '서초구 ' + df_no_gu['Address_1']"
   ]
  },
  {
   "cell_type": "code",
   "execution_count": 66,
   "id": "93925e22-8c15-45c6-a0e6-c59d354e066d",
   "metadata": {},
   "outputs": [],
   "source": [
    "df_no_gu.loc[df_no_gu['Address_1'].str.contains('진관동|불광동|응암동|증산동|갈현동|녹번동'), 'Address_1'] = '은평구 ' + df_no_gu['Address_1']"
   ]
  },
  {
   "cell_type": "code",
   "execution_count": 67,
   "id": "5264472f-7bdb-4af8-aa2c-823afe8da1ef",
   "metadata": {},
   "outputs": [],
   "source": [
    "df_no_gu.loc[df_no_gu['Address_1'].str.contains('중화동|면목동|상봉동'), 'Address_1'] = '중랑구 ' + df_no_gu['Address_1']"
   ]
  },
  {
   "cell_type": "code",
   "execution_count": 70,
   "id": "bdd5e386-481f-404c-a299-a85f5cec2c99",
   "metadata": {},
   "outputs": [],
   "source": [
    "df_no_gu.loc[df_no_gu['Address_1'].str.contains('사당동'), 'Address_1'] = '동작구 ' + df_no_gu['Address_1']"
   ]
  },
  {
   "cell_type": "code",
   "execution_count": 75,
   "id": "3c50a035-5b4c-4f70-bbb4-3ac2c0f211dd",
   "metadata": {},
   "outputs": [],
   "source": [
    "df_no_gu.loc[df_no_gu['Address_1'].str.contains('창동'), 'Address_1'] = '도봉구 ' + df_no_gu['Address_1']"
   ]
  },
  {
   "cell_type": "code",
   "execution_count": 12,
   "id": "4251f05a-0f26-4a6a-80a0-0a2e81a2d1b0",
   "metadata": {},
   "outputs": [],
   "source": [
    "first_df.to_csv('./data/preprocessed_data/Rental_Location_ID_master.csv', encoding='utf-8', index=False)"
   ]
  },
  {
   "cell_type": "markdown",
   "id": "6d984c52-0713-4893-96df-e7cd4d83b105",
   "metadata": {
    "jp-MarkdownHeadingCollapsed": true
   },
   "source": [
    "### 학교 주소 전처리"
   ]
  },
  {
   "cell_type": "code",
   "execution_count": 5,
   "id": "ac7a68ca-e6a7-4c82-b061-5311d8695cad",
   "metadata": {},
   "outputs": [],
   "source": [
    "import pandas as pd\n",
    "\n",
    "df = pd.read_csv('./data/raw_data/전국초중등학교위치표준데이터-20241017.csv')"
   ]
  },
  {
   "cell_type": "code",
   "execution_count": 7,
   "id": "133b4d01-c8b0-479d-917b-42ab85507f55",
   "metadata": {},
   "outputs": [],
   "source": [
    "seoul_df = df[df['시도교육청명'].str.contains('서울특별시교육청', na=False)]"
   ]
  },
  {
   "cell_type": "code",
   "execution_count": 9,
   "id": "a75d5f72-ea72-4fa4-ba77-86b138c64a60",
   "metadata": {},
   "outputs": [],
   "source": [
    "gangnam_df = df[df['address_old'].str.contains('강남구', na=False)]"
   ]
  },
  {
   "cell_type": "code",
   "execution_count": 11,
   "id": "9f368fcb-8026-465c-95a9-3ce10c4e4582",
   "metadata": {},
   "outputs": [],
   "source": [
    "gangnam_df = gangnam_df.drop(columns=['시도교육청명'])"
   ]
  },
  {
   "cell_type": "code",
   "execution_count": 13,
   "id": "5c3ccf5b-46ca-4aa9-a4d8-b027c6f4fed6",
   "metadata": {},
   "outputs": [],
   "source": [
    "gangnam_df = gangnam_df.rename(columns={'위도': 'lat', '경도': 'lon'})"
   ]
  },
  {
   "cell_type": "code",
   "execution_count": 15,
   "id": "b0697084-e6e6-47b0-a40a-c5228099487a",
   "metadata": {},
   "outputs": [],
   "source": [
    "gangnam_df.to_csv('./data/preprocessed_data/gangnam_emh_schools_lat_lon.csv', encoding='utf-8', index=False)"
   ]
  }
 ],
 "metadata": {
  "kernelspec": {
   "display_name": "Python 3 (ipykernel)",
   "language": "python",
   "name": "python3"
  },
  "language_info": {
   "codemirror_mode": {
    "name": "ipython",
    "version": 3
   },
   "file_extension": ".py",
   "mimetype": "text/x-python",
   "name": "python",
   "nbconvert_exporter": "python",
   "pygments_lexer": "ipython3",
   "version": "3.12.3"
  }
 },
 "nbformat": 4,
 "nbformat_minor": 5
}
